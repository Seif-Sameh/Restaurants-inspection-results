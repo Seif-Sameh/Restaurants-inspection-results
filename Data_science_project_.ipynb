{
  "cells": [
    {
      "cell_type": "markdown",
      "metadata": {
        "id": "view-in-github",
        "colab_type": "text"
      },
      "source": [
        "<a href=\"https://colab.research.google.com/github/Seif-Sameh/Restaurants-inspection-results/blob/main/Data_science_project_.ipynb\" target=\"_parent\"><img src=\"https://colab.research.google.com/assets/colab-badge.svg\" alt=\"Open In Colab\"/></a>"
      ]
    },
    {
      "cell_type": "markdown",
      "metadata": {
        "id": "ID2OYvzoTBRT"
      },
      "source": [
        "# Importing libraries"
      ]
    },
    {
      "cell_type": "code",
      "execution_count": null,
      "metadata": {
        "id": "_HLVc9QCq8nT"
      },
      "outputs": [],
      "source": [
        "import pandas as pd\n",
        "import numpy as np\n",
        "from sklearn.preprocessing import LabelEncoder, MinMaxScaler, StandardScaler\n",
        "from sklearn.metrics import accuracy_score, classification_report, r2_score\n",
        "from sklearn.model_selection import train_test_split\n",
        "import matplotlib.pyplot as plt\n",
        "from google.colab import files"
      ]
    },
    {
      "cell_type": "markdown",
      "metadata": {
        "id": "STQ6JEMXTnyI"
      },
      "source": [
        "# Importing Dataset"
      ]
    },
    {
      "cell_type": "code",
      "execution_count": null,
      "metadata": {
        "id": "ahnkkrblrVZU"
      },
      "outputs": [],
      "source": [
        "df = pd.read_csv('/content/resturants inspection results.csv', on_bad_lines='skip', quoting= 3)"
      ]
    },
    {
      "cell_type": "markdown",
      "metadata": {
        "id": "70TIOsHATyr9"
      },
      "source": [
        "# Exploring Data"
      ]
    },
    {
      "cell_type": "code",
      "execution_count": null,
      "metadata": {
        "colab": {
          "base_uri": "https://localhost:8080/"
        },
        "id": "uNgVS8xQrXhr",
        "outputId": "1d180c40-ab6a-431a-f598-a732f43f76ff"
      },
      "outputs": [
        {
          "data": {
            "text/plain": [
              "(4988, 27)"
            ]
          },
          "execution_count": 43,
          "metadata": {},
          "output_type": "execute_result"
        }
      ],
      "source": [
        "df.shape"
      ]
    },
    {
      "cell_type": "code",
      "execution_count": null,
      "metadata": {
        "colab": {
          "base_uri": "https://localhost:8080/"
        },
        "id": "iPEW29JkrauR",
        "outputId": "b8bc979b-3a9e-4212-a5d8-38fc77caf427"
      },
      "outputs": [
        {
          "data": {
            "text/plain": [
              "CAMIS                       0\n",
              "DBA                       220\n",
              "BORO                        0\n",
              "BUILDING                   25\n",
              "STREET                      5\n",
              "ZIPCODE                    89\n",
              "PHONE                       0\n",
              "CUISINE DESCRIPTION       751\n",
              "INSPECTION DATE             0\n",
              "ACTION                    751\n",
              "VIOLATION CODE            866\n",
              "VIOLATION DESCRIPTION     866\n",
              "CRITICAL FLAG               0\n",
              "SCORE                     935\n",
              "GRADE                    3052\n",
              "GRADE DATE               3185\n",
              "RECORD DATE                 0\n",
              "INSPECTION TYPE           751\n",
              "Latitude                   25\n",
              "Longitude                  25\n",
              "Community Board           119\n",
              "Council District          119\n",
              "Census Tract              119\n",
              "BIN                       139\n",
              "BBL                        35\n",
              "NTA                       119\n",
              "Location Point1;;;        512\n",
              "dtype: int64"
            ]
          },
          "execution_count": 44,
          "metadata": {},
          "output_type": "execute_result"
        }
      ],
      "source": [
        "df.isna().sum()"
      ]
    },
    {
      "cell_type": "code",
      "execution_count": null,
      "metadata": {
        "colab": {
          "base_uri": "https://localhost:8080/"
        },
        "id": "Rl3KK5i0njeg",
        "outputId": "9f6e0c89-7135-4eab-b418-601a02c3c59d"
      },
      "outputs": [
        {
          "data": {
            "text/plain": [
              "1"
            ]
          },
          "execution_count": 45,
          "metadata": {},
          "output_type": "execute_result"
        }
      ],
      "source": [
        "df.duplicated().sum()"
      ]
    },
    {
      "cell_type": "markdown",
      "metadata": {
        "id": "jSAKvN_6T3rW"
      },
      "source": [
        "# Data Pre-processing"
      ]
    },
    {
      "cell_type": "code",
      "execution_count": null,
      "metadata": {
        "id": "n1aF5nLKnuG8"
      },
      "outputs": [],
      "source": [
        "df = df.drop_duplicates()"
      ]
    },
    {
      "cell_type": "code",
      "execution_count": null,
      "metadata": {
        "colab": {
          "base_uri": "https://localhost:8080/"
        },
        "id": "KGRU3LdtrdG8",
        "outputId": "2eb58187-453d-409a-8d08-1a29698aeb2d"
      },
      "outputs": [
        {
          "name": "stderr",
          "output_type": "stream",
          "text": [
            "<ipython-input-47-45718e97237f>:1: SettingWithCopyWarning: \n",
            "A value is trying to be set on a copy of a slice from a DataFrame\n",
            "\n",
            "See the caveats in the documentation: https://pandas.pydata.org/pandas-docs/stable/user_guide/indexing.html#returning-a-view-versus-a-copy\n",
            "  df.drop(columns=['GRADE', 'GRADE DATE', 'Community Board', 'Council District', 'Census Tract', 'BIN', 'BBL', 'NTA', 'Location Point1;;;'], inplace=True)\n"
          ]
        }
      ],
      "source": [
        "df.drop(columns=['GRADE', 'GRADE DATE', 'Community Board', 'Council District', 'Census Tract', 'BIN', 'BBL', 'NTA', 'Location Point1;;;'], inplace=True)"
      ]
    },
    {
      "cell_type": "code",
      "execution_count": null,
      "metadata": {
        "colab": {
          "base_uri": "https://localhost:8080/"
        },
        "id": "IG54p4ICrxA8",
        "outputId": "450661fc-5b31-4aa8-a99b-423421083bdb"
      },
      "outputs": [
        {
          "name": "stderr",
          "output_type": "stream",
          "text": [
            "<ipython-input-48-abbd40070d3a>:1: SettingWithCopyWarning: \n",
            "A value is trying to be set on a copy of a slice from a DataFrame\n",
            "\n",
            "See the caveats in the documentation: https://pandas.pydata.org/pandas-docs/stable/user_guide/indexing.html#returning-a-view-versus-a-copy\n",
            "  df.dropna(subset=['INSPECTION TYPE' ,'VIOLATION CODE', 'VIOLATION DESCRIPTION', 'DBA', 'CUISINE DESCRIPTION', 'ACTION', 'Latitude', 'Longitude'], inplace=True)\n"
          ]
        }
      ],
      "source": [
        "df.dropna(subset=['INSPECTION TYPE' ,'VIOLATION CODE', 'VIOLATION DESCRIPTION', 'DBA', 'CUISINE DESCRIPTION', 'ACTION', 'Latitude', 'Longitude'], inplace=True)"
      ]
    },
    {
      "cell_type": "code",
      "execution_count": null,
      "metadata": {
        "colab": {
          "base_uri": "https://localhost:8080/"
        },
        "id": "8hgI0zNgsLcP",
        "outputId": "39aecd60-332b-4bbb-ef3f-e6b861dee613"
      },
      "outputs": [
        {
          "name": "stderr",
          "output_type": "stream",
          "text": [
            "<ipython-input-49-d11c2dfa0f12>:1: SettingWithCopyWarning: \n",
            "A value is trying to be set on a copy of a slice from a DataFrame.\n",
            "Try using .loc[row_indexer,col_indexer] = value instead\n",
            "\n",
            "See the caveats in the documentation: https://pandas.pydata.org/pandas-docs/stable/user_guide/indexing.html#returning-a-view-versus-a-copy\n",
            "  df['SCORE'] = df['SCORE'].fillna(50)\n"
          ]
        }
      ],
      "source": [
        "df['SCORE'] = df['SCORE'].fillna(50)"
      ]
    },
    {
      "cell_type": "code",
      "execution_count": null,
      "metadata": {
        "colab": {
          "base_uri": "https://localhost:8080/"
        },
        "id": "mKftRg0jsSPi",
        "outputId": "7251562a-70ae-4140-aa6c-91d444f97ab8"
      },
      "outputs": [
        {
          "data": {
            "text/plain": [
              "CAMIS                     0\n",
              "DBA                       0\n",
              "BORO                      0\n",
              "BUILDING                  3\n",
              "STREET                    0\n",
              "ZIPCODE                  56\n",
              "PHONE                     0\n",
              "CUISINE DESCRIPTION       0\n",
              "INSPECTION DATE           0\n",
              "ACTION                    0\n",
              "VIOLATION CODE            0\n",
              "VIOLATION DESCRIPTION     0\n",
              "CRITICAL FLAG             0\n",
              "SCORE                     0\n",
              "RECORD DATE               0\n",
              "INSPECTION TYPE           0\n",
              "Latitude                  0\n",
              "Longitude                 0\n",
              "dtype: int64"
            ]
          },
          "execution_count": 50,
          "metadata": {},
          "output_type": "execute_result"
        }
      ],
      "source": [
        "df.isna().sum()"
      ]
    },
    {
      "cell_type": "code",
      "execution_count": null,
      "metadata": {
        "colab": {
          "base_uri": "https://localhost:8080/"
        },
        "id": "qQrfKdsntlP2",
        "outputId": "d6c833df-f21a-4e59-dd05-bde794a14c93"
      },
      "outputs": [
        {
          "data": {
            "text/plain": [
              "(4113, 18)"
            ]
          },
          "execution_count": 51,
          "metadata": {},
          "output_type": "execute_result"
        }
      ],
      "source": [
        "df.shape"
      ]
    },
    {
      "cell_type": "code",
      "execution_count": null,
      "metadata": {
        "colab": {
          "base_uri": "https://localhost:8080/"
        },
        "id": "bMQcSgfIt8UC",
        "outputId": "fc1b8b55-4247-49eb-d78b-7be9eae85f2e"
      },
      "outputs": [
        {
          "name": "stderr",
          "output_type": "stream",
          "text": [
            "<ipython-input-52-be810d36f7d2>:1: SettingWithCopyWarning: \n",
            "A value is trying to be set on a copy of a slice from a DataFrame.\n",
            "Try using .loc[row_indexer,col_indexer] = value instead\n",
            "\n",
            "See the caveats in the documentation: https://pandas.pydata.org/pandas-docs/stable/user_guide/indexing.html#returning-a-view-versus-a-copy\n",
            "  df['ZIPCODE'] = df['ZIPCODE'].fillna(0)\n",
            "<ipython-input-52-be810d36f7d2>:2: SettingWithCopyWarning: \n",
            "A value is trying to be set on a copy of a slice from a DataFrame.\n",
            "Try using .loc[row_indexer,col_indexer] = value instead\n",
            "\n",
            "See the caveats in the documentation: https://pandas.pydata.org/pandas-docs/stable/user_guide/indexing.html#returning-a-view-versus-a-copy\n",
            "  df['BUILDING'] = df['BUILDING'].fillna(0)\n"
          ]
        }
      ],
      "source": [
        "df['ZIPCODE'] = df['ZIPCODE'].fillna(0)\n",
        "df['BUILDING'] = df['BUILDING'].fillna(0)"
      ]
    },
    {
      "cell_type": "code",
      "execution_count": null,
      "metadata": {
        "colab": {
          "base_uri": "https://localhost:8080/"
        },
        "id": "UIS3ApeWwXFJ",
        "outputId": "74808b31-ae38-4dfa-9123-7acd2a6bfa9d"
      },
      "outputs": [
        {
          "data": {
            "text/plain": [
              "CAMIS                    0\n",
              "DBA                      0\n",
              "BORO                     0\n",
              "BUILDING                 0\n",
              "STREET                   0\n",
              "ZIPCODE                  0\n",
              "PHONE                    0\n",
              "CUISINE DESCRIPTION      0\n",
              "INSPECTION DATE          0\n",
              "ACTION                   0\n",
              "VIOLATION CODE           0\n",
              "VIOLATION DESCRIPTION    0\n",
              "CRITICAL FLAG            0\n",
              "SCORE                    0\n",
              "RECORD DATE              0\n",
              "INSPECTION TYPE          0\n",
              "Latitude                 0\n",
              "Longitude                0\n",
              "dtype: int64"
            ]
          },
          "execution_count": 53,
          "metadata": {},
          "output_type": "execute_result"
        }
      ],
      "source": [
        "df.isna().sum()"
      ]
    },
    {
      "cell_type": "code",
      "execution_count": null,
      "metadata": {
        "colab": {
          "base_uri": "https://localhost:8080/",
          "height": 666
        },
        "id": "6asoOv-NxKDR",
        "outputId": "594a7232-cbff-4843-b8d5-ebb7b7369d3f"
      },
      "outputs": [
        {
          "data": {
            "application/vnd.google.colaboratory.intrinsic+json": {
              "repr_error": "0",
              "type": "dataframe",
              "variable_name": "df"
            },
            "text/html": [
              "\n",
              "  <div id=\"df-157a34d2-52cf-4b2a-964a-4cab9a56d531\" class=\"colab-df-container\">\n",
              "    <div>\n",
              "<style scoped>\n",
              "    .dataframe tbody tr th:only-of-type {\n",
              "        vertical-align: middle;\n",
              "    }\n",
              "\n",
              "    .dataframe tbody tr th {\n",
              "        vertical-align: top;\n",
              "    }\n",
              "\n",
              "    .dataframe thead th {\n",
              "        text-align: right;\n",
              "    }\n",
              "</style>\n",
              "<table border=\"1\" class=\"dataframe\">\n",
              "  <thead>\n",
              "    <tr style=\"text-align: right;\">\n",
              "      <th></th>\n",
              "      <th>CAMIS</th>\n",
              "      <th>DBA</th>\n",
              "      <th>BORO</th>\n",
              "      <th>BUILDING</th>\n",
              "      <th>STREET</th>\n",
              "      <th>ZIPCODE</th>\n",
              "      <th>PHONE</th>\n",
              "      <th>CUISINE DESCRIPTION</th>\n",
              "      <th>INSPECTION DATE</th>\n",
              "      <th>ACTION</th>\n",
              "      <th>VIOLATION CODE</th>\n",
              "      <th>VIOLATION DESCRIPTION</th>\n",
              "      <th>CRITICAL FLAG</th>\n",
              "      <th>SCORE</th>\n",
              "      <th>RECORD DATE</th>\n",
              "      <th>INSPECTION TYPE</th>\n",
              "      <th>Latitude</th>\n",
              "      <th>Longitude</th>\n",
              "    </tr>\n",
              "  </thead>\n",
              "  <tbody>\n",
              "    <tr>\n",
              "      <th>32</th>\n",
              "      <td>50118403</td>\n",
              "      <td>NEW LUCKY STAR KITCHEN</td>\n",
              "      <td>Queens</td>\n",
              "      <td>809</td>\n",
              "      <td>ASTORIA BLVD</td>\n",
              "      <td>11102.0</td>\n",
              "      <td>7187772200</td>\n",
              "      <td>Chinese</td>\n",
              "      <td>01/11/2022</td>\n",
              "      <td>Violations were cited in the following area(s).</td>\n",
              "      <td>02B</td>\n",
              "      <td>Hot food item not held at or above 140º F.</td>\n",
              "      <td>Critical</td>\n",
              "      <td>20.0</td>\n",
              "      <td>04/29/2024</td>\n",
              "      <td>Pre-permit (Operational) / Initial Inspection</td>\n",
              "      <td>40.772568</td>\n",
              "      <td>-73.932254</td>\n",
              "    </tr>\n",
              "    <tr>\n",
              "      <th>35</th>\n",
              "      <td>50108139</td>\n",
              "      <td>NHA MINH</td>\n",
              "      <td>Queens</td>\n",
              "      <td>915</td>\n",
              "      <td>WYCKOFF AVENUE</td>\n",
              "      <td>11385.0</td>\n",
              "      <td>9176745706</td>\n",
              "      <td>Other</td>\n",
              "      <td>11/28/2023</td>\n",
              "      <td>Violations were cited in the following area(s).</td>\n",
              "      <td>02B</td>\n",
              "      <td>Hot TCS food item not held at or above 140 °F.</td>\n",
              "      <td>Critical</td>\n",
              "      <td>10.0</td>\n",
              "      <td>04/29/2024</td>\n",
              "      <td>Cycle Inspection / Initial Inspection</td>\n",
              "      <td>40.696932</td>\n",
              "      <td>-73.906442</td>\n",
              "    </tr>\n",
              "    <tr>\n",
              "      <th>38</th>\n",
              "      <td>41050702</td>\n",
              "      <td>CHRIS SUPER DELI</td>\n",
              "      <td>Bronx</td>\n",
              "      <td>903</td>\n",
              "      <td>SHERIDAN AVENUE</td>\n",
              "      <td>10451.0</td>\n",
              "      <td>7184100708</td>\n",
              "      <td>Sandwiches/Salads/Mixed Buffet</td>\n",
              "      <td>02/07/2022</td>\n",
              "      <td>Violations were cited in the following area(s).</td>\n",
              "      <td>09B</td>\n",
              "      <td>Thawing procedures improper.</td>\n",
              "      <td>Not Critical</td>\n",
              "      <td>12.0</td>\n",
              "      <td>04/29/2024</td>\n",
              "      <td>Cycle Inspection / Initial Inspection</td>\n",
              "      <td>40.827086</td>\n",
              "      <td>-73.920773</td>\n",
              "    </tr>\n",
              "    <tr>\n",
              "      <th>42</th>\n",
              "      <td>41466245</td>\n",
              "      <td>ATLIXCO BAKERY &amp; DELI</td>\n",
              "      <td>Staten Island</td>\n",
              "      <td>1012</td>\n",
              "      <td>ST PAULS AVE</td>\n",
              "      <td>0.0</td>\n",
              "      <td>7183900171</td>\n",
              "      <td>Mexican</td>\n",
              "      <td>04/22/2024</td>\n",
              "      <td>Violations were cited in the following area(s).</td>\n",
              "      <td>04L</td>\n",
              "      <td>Evidence of mice or live mice in establishment...</td>\n",
              "      <td>Critical</td>\n",
              "      <td>17.0</td>\n",
              "      <td>04/29/2024</td>\n",
              "      <td>Cycle Inspection / Initial Inspection</td>\n",
              "      <td>0.000000</td>\n",
              "      <td>0.000000</td>\n",
              "    </tr>\n",
              "    <tr>\n",
              "      <th>46</th>\n",
              "      <td>50064785</td>\n",
              "      <td>REGINA'S GROCERY</td>\n",
              "      <td>Manhattan</td>\n",
              "      <td>27</td>\n",
              "      <td>ORCHARD STREET</td>\n",
              "      <td>10002.0</td>\n",
              "      <td>9172615792</td>\n",
              "      <td>Italian</td>\n",
              "      <td>03/19/2024</td>\n",
              "      <td>Violations were cited in the following area(s).</td>\n",
              "      <td>02B</td>\n",
              "      <td>Hot TCS food item not held at or above 140 °F.</td>\n",
              "      <td>Critical</td>\n",
              "      <td>12.0</td>\n",
              "      <td>04/29/2024</td>\n",
              "      <td>Cycle Inspection / Re-inspection</td>\n",
              "      <td>40.715511</td>\n",
              "      <td>-73.991581</td>\n",
              "    </tr>\n",
              "  </tbody>\n",
              "</table>\n",
              "</div>\n",
              "    <div class=\"colab-df-buttons\">\n",
              "\n",
              "  <div class=\"colab-df-container\">\n",
              "    <button class=\"colab-df-convert\" onclick=\"convertToInteractive('df-157a34d2-52cf-4b2a-964a-4cab9a56d531')\"\n",
              "            title=\"Convert this dataframe to an interactive table.\"\n",
              "            style=\"display:none;\">\n",
              "\n",
              "  <svg xmlns=\"http://www.w3.org/2000/svg\" height=\"24px\" viewBox=\"0 -960 960 960\">\n",
              "    <path d=\"M120-120v-720h720v720H120Zm60-500h600v-160H180v160Zm220 220h160v-160H400v160Zm0 220h160v-160H400v160ZM180-400h160v-160H180v160Zm440 0h160v-160H620v160ZM180-180h160v-160H180v160Zm440 0h160v-160H620v160Z\"/>\n",
              "  </svg>\n",
              "    </button>\n",
              "\n",
              "  <style>\n",
              "    .colab-df-container {\n",
              "      display:flex;\n",
              "      gap: 12px;\n",
              "    }\n",
              "\n",
              "    .colab-df-convert {\n",
              "      background-color: #E8F0FE;\n",
              "      border: none;\n",
              "      border-radius: 50%;\n",
              "      cursor: pointer;\n",
              "      display: none;\n",
              "      fill: #1967D2;\n",
              "      height: 32px;\n",
              "      padding: 0 0 0 0;\n",
              "      width: 32px;\n",
              "    }\n",
              "\n",
              "    .colab-df-convert:hover {\n",
              "      background-color: #E2EBFA;\n",
              "      box-shadow: 0px 1px 2px rgba(60, 64, 67, 0.3), 0px 1px 3px 1px rgba(60, 64, 67, 0.15);\n",
              "      fill: #174EA6;\n",
              "    }\n",
              "\n",
              "    .colab-df-buttons div {\n",
              "      margin-bottom: 4px;\n",
              "    }\n",
              "\n",
              "    [theme=dark] .colab-df-convert {\n",
              "      background-color: #3B4455;\n",
              "      fill: #D2E3FC;\n",
              "    }\n",
              "\n",
              "    [theme=dark] .colab-df-convert:hover {\n",
              "      background-color: #434B5C;\n",
              "      box-shadow: 0px 1px 3px 1px rgba(0, 0, 0, 0.15);\n",
              "      filter: drop-shadow(0px 1px 2px rgba(0, 0, 0, 0.3));\n",
              "      fill: #FFFFFF;\n",
              "    }\n",
              "  </style>\n",
              "\n",
              "    <script>\n",
              "      const buttonEl =\n",
              "        document.querySelector('#df-157a34d2-52cf-4b2a-964a-4cab9a56d531 button.colab-df-convert');\n",
              "      buttonEl.style.display =\n",
              "        google.colab.kernel.accessAllowed ? 'block' : 'none';\n",
              "\n",
              "      async function convertToInteractive(key) {\n",
              "        const element = document.querySelector('#df-157a34d2-52cf-4b2a-964a-4cab9a56d531');\n",
              "        const dataTable =\n",
              "          await google.colab.kernel.invokeFunction('convertToInteractive',\n",
              "                                                    [key], {});\n",
              "        if (!dataTable) return;\n",
              "\n",
              "        const docLinkHtml = 'Like what you see? Visit the ' +\n",
              "          '<a target=\"_blank\" href=https://colab.research.google.com/notebooks/data_table.ipynb>data table notebook</a>'\n",
              "          + ' to learn more about interactive tables.';\n",
              "        element.innerHTML = '';\n",
              "        dataTable['output_type'] = 'display_data';\n",
              "        await google.colab.output.renderOutput(dataTable, element);\n",
              "        const docLink = document.createElement('div');\n",
              "        docLink.innerHTML = docLinkHtml;\n",
              "        element.appendChild(docLink);\n",
              "      }\n",
              "    </script>\n",
              "  </div>\n",
              "\n",
              "\n",
              "<div id=\"df-58e3bd26-7d6a-41cb-8737-c15897249fe5\">\n",
              "  <button class=\"colab-df-quickchart\" onclick=\"quickchart('df-58e3bd26-7d6a-41cb-8737-c15897249fe5')\"\n",
              "            title=\"Suggest charts\"\n",
              "            style=\"display:none;\">\n",
              "\n",
              "<svg xmlns=\"http://www.w3.org/2000/svg\" height=\"24px\"viewBox=\"0 0 24 24\"\n",
              "     width=\"24px\">\n",
              "    <g>\n",
              "        <path d=\"M19 3H5c-1.1 0-2 .9-2 2v14c0 1.1.9 2 2 2h14c1.1 0 2-.9 2-2V5c0-1.1-.9-2-2-2zM9 17H7v-7h2v7zm4 0h-2V7h2v10zm4 0h-2v-4h2v4z\"/>\n",
              "    </g>\n",
              "</svg>\n",
              "  </button>\n",
              "\n",
              "<style>\n",
              "  .colab-df-quickchart {\n",
              "      --bg-color: #E8F0FE;\n",
              "      --fill-color: #1967D2;\n",
              "      --hover-bg-color: #E2EBFA;\n",
              "      --hover-fill-color: #174EA6;\n",
              "      --disabled-fill-color: #AAA;\n",
              "      --disabled-bg-color: #DDD;\n",
              "  }\n",
              "\n",
              "  [theme=dark] .colab-df-quickchart {\n",
              "      --bg-color: #3B4455;\n",
              "      --fill-color: #D2E3FC;\n",
              "      --hover-bg-color: #434B5C;\n",
              "      --hover-fill-color: #FFFFFF;\n",
              "      --disabled-bg-color: #3B4455;\n",
              "      --disabled-fill-color: #666;\n",
              "  }\n",
              "\n",
              "  .colab-df-quickchart {\n",
              "    background-color: var(--bg-color);\n",
              "    border: none;\n",
              "    border-radius: 50%;\n",
              "    cursor: pointer;\n",
              "    display: none;\n",
              "    fill: var(--fill-color);\n",
              "    height: 32px;\n",
              "    padding: 0;\n",
              "    width: 32px;\n",
              "  }\n",
              "\n",
              "  .colab-df-quickchart:hover {\n",
              "    background-color: var(--hover-bg-color);\n",
              "    box-shadow: 0 1px 2px rgba(60, 64, 67, 0.3), 0 1px 3px 1px rgba(60, 64, 67, 0.15);\n",
              "    fill: var(--button-hover-fill-color);\n",
              "  }\n",
              "\n",
              "  .colab-df-quickchart-complete:disabled,\n",
              "  .colab-df-quickchart-complete:disabled:hover {\n",
              "    background-color: var(--disabled-bg-color);\n",
              "    fill: var(--disabled-fill-color);\n",
              "    box-shadow: none;\n",
              "  }\n",
              "\n",
              "  .colab-df-spinner {\n",
              "    border: 2px solid var(--fill-color);\n",
              "    border-color: transparent;\n",
              "    border-bottom-color: var(--fill-color);\n",
              "    animation:\n",
              "      spin 1s steps(1) infinite;\n",
              "  }\n",
              "\n",
              "  @keyframes spin {\n",
              "    0% {\n",
              "      border-color: transparent;\n",
              "      border-bottom-color: var(--fill-color);\n",
              "      border-left-color: var(--fill-color);\n",
              "    }\n",
              "    20% {\n",
              "      border-color: transparent;\n",
              "      border-left-color: var(--fill-color);\n",
              "      border-top-color: var(--fill-color);\n",
              "    }\n",
              "    30% {\n",
              "      border-color: transparent;\n",
              "      border-left-color: var(--fill-color);\n",
              "      border-top-color: var(--fill-color);\n",
              "      border-right-color: var(--fill-color);\n",
              "    }\n",
              "    40% {\n",
              "      border-color: transparent;\n",
              "      border-right-color: var(--fill-color);\n",
              "      border-top-color: var(--fill-color);\n",
              "    }\n",
              "    60% {\n",
              "      border-color: transparent;\n",
              "      border-right-color: var(--fill-color);\n",
              "    }\n",
              "    80% {\n",
              "      border-color: transparent;\n",
              "      border-right-color: var(--fill-color);\n",
              "      border-bottom-color: var(--fill-color);\n",
              "    }\n",
              "    90% {\n",
              "      border-color: transparent;\n",
              "      border-bottom-color: var(--fill-color);\n",
              "    }\n",
              "  }\n",
              "</style>\n",
              "\n",
              "  <script>\n",
              "    async function quickchart(key) {\n",
              "      const quickchartButtonEl =\n",
              "        document.querySelector('#' + key + ' button');\n",
              "      quickchartButtonEl.disabled = true;  // To prevent multiple clicks.\n",
              "      quickchartButtonEl.classList.add('colab-df-spinner');\n",
              "      try {\n",
              "        const charts = await google.colab.kernel.invokeFunction(\n",
              "            'suggestCharts', [key], {});\n",
              "      } catch (error) {\n",
              "        console.error('Error during call to suggestCharts:', error);\n",
              "      }\n",
              "      quickchartButtonEl.classList.remove('colab-df-spinner');\n",
              "      quickchartButtonEl.classList.add('colab-df-quickchart-complete');\n",
              "    }\n",
              "    (() => {\n",
              "      let quickchartButtonEl =\n",
              "        document.querySelector('#df-58e3bd26-7d6a-41cb-8737-c15897249fe5 button');\n",
              "      quickchartButtonEl.style.display =\n",
              "        google.colab.kernel.accessAllowed ? 'block' : 'none';\n",
              "    })();\n",
              "  </script>\n",
              "</div>\n",
              "\n",
              "    </div>\n",
              "  </div>\n"
            ],
            "text/plain": [
              "       CAMIS                     DBA           BORO BUILDING           STREET  \\\n",
              "32  50118403  NEW LUCKY STAR KITCHEN         Queens      809     ASTORIA BLVD   \n",
              "35  50108139                NHA MINH         Queens      915   WYCKOFF AVENUE   \n",
              "38  41050702        CHRIS SUPER DELI          Bronx      903  SHERIDAN AVENUE   \n",
              "42  41466245   ATLIXCO BAKERY & DELI  Staten Island     1012     ST PAULS AVE   \n",
              "46  50064785        REGINA'S GROCERY      Manhattan       27   ORCHARD STREET   \n",
              "\n",
              "    ZIPCODE       PHONE             CUISINE DESCRIPTION INSPECTION DATE  \\\n",
              "32  11102.0  7187772200                         Chinese      01/11/2022   \n",
              "35  11385.0  9176745706                           Other      11/28/2023   \n",
              "38  10451.0  7184100708  Sandwiches/Salads/Mixed Buffet      02/07/2022   \n",
              "42      0.0  7183900171                         Mexican      04/22/2024   \n",
              "46  10002.0  9172615792                         Italian      03/19/2024   \n",
              "\n",
              "                                             ACTION VIOLATION CODE  \\\n",
              "32  Violations were cited in the following area(s).            02B   \n",
              "35  Violations were cited in the following area(s).            02B   \n",
              "38  Violations were cited in the following area(s).            09B   \n",
              "42  Violations were cited in the following area(s).            04L   \n",
              "46  Violations were cited in the following area(s).            02B   \n",
              "\n",
              "                                VIOLATION DESCRIPTION CRITICAL FLAG  SCORE  \\\n",
              "32         Hot food item not held at or above 140º F.      Critical   20.0   \n",
              "35     Hot TCS food item not held at or above 140 °F.      Critical   10.0   \n",
              "38                       Thawing procedures improper.  Not Critical   12.0   \n",
              "42  Evidence of mice or live mice in establishment...      Critical   17.0   \n",
              "46     Hot TCS food item not held at or above 140 °F.      Critical   12.0   \n",
              "\n",
              "   RECORD DATE                                INSPECTION TYPE   Latitude  \\\n",
              "32  04/29/2024  Pre-permit (Operational) / Initial Inspection  40.772568   \n",
              "35  04/29/2024          Cycle Inspection / Initial Inspection  40.696932   \n",
              "38  04/29/2024          Cycle Inspection / Initial Inspection  40.827086   \n",
              "42  04/29/2024          Cycle Inspection / Initial Inspection   0.000000   \n",
              "46  04/29/2024               Cycle Inspection / Re-inspection  40.715511   \n",
              "\n",
              "    Longitude  \n",
              "32 -73.932254  \n",
              "35 -73.906442  \n",
              "38 -73.920773  \n",
              "42   0.000000  \n",
              "46 -73.991581  "
            ]
          },
          "execution_count": 54,
          "metadata": {},
          "output_type": "execute_result"
        }
      ],
      "source": [
        "df.head()"
      ]
    },
    {
      "cell_type": "markdown",
      "metadata": {
        "id": "EgkslLCzUIeC"
      },
      "source": [
        "# Categorical Values Encoding"
      ]
    },
    {
      "cell_type": "code",
      "execution_count": null,
      "metadata": {
        "colab": {
          "base_uri": "https://localhost:8080/"
        },
        "id": "mHfhZk-O6wtJ",
        "outputId": "cac7d6fd-3b7f-4f50-8eed-f1534a599c97"
      },
      "outputs": [
        {
          "name": "stdout",
          "output_type": "stream",
          "text": [
            "ACTION\n",
            "Violations were cited in the following area(s).                                                                                       3942\n",
            "Establishment Closed by DOHMH. Violations were cited in the following area(s) and those requiring immediate action were addressed.     144\n",
            "Establishment re-opened by DOHMH.                                                                                                       25\n",
            "No violations were recorded at the time of this inspection.                                                                              2\n",
            "Name: count, dtype: int64\n"
          ]
        }
      ],
      "source": [
        "print(df['ACTION'].value_counts())"
      ]
    },
    {
      "cell_type": "code",
      "execution_count": null,
      "metadata": {
        "colab": {
          "base_uri": "https://localhost:8080/"
        },
        "id": "krPeuI769RNy",
        "outputId": "ad19bf57-0e17-4e50-c5d4-75efdce3a4cf"
      },
      "outputs": [
        {
          "name": "stdout",
          "output_type": "stream",
          "text": [
            "VIOLATION CODE\n",
            "02B      616\n",
            "04L      584\n",
            "02G      525\n",
            "10B      485\n",
            "08A      330\n",
            "        ... \n",
            "15-27      1\n",
            "15I        1\n",
            "19-05      1\n",
            "15E2       1\n",
            "15F1       1\n",
            "Name: count, Length: 62, dtype: int64\n"
          ]
        }
      ],
      "source": [
        "print(df['VIOLATION CODE'].value_counts())"
      ]
    },
    {
      "cell_type": "code",
      "execution_count": null,
      "metadata": {
        "colab": {
          "base_uri": "https://localhost:8080/"
        },
        "id": "D4gXyM1Kz8p-",
        "outputId": "eea4e6ed-01d7-4b46-c6a5-23168f1ab6e0"
      },
      "outputs": [
        {
          "name": "stdout",
          "output_type": "stream",
          "text": [
            "INSPECTION TYPE\n",
            "Cycle Inspection / Initial Inspection                          2261\n",
            "Cycle Inspection / Re-inspection                                779\n",
            "Pre-permit (Operational) / Initial Inspection                   592\n",
            "Pre-permit (Operational) / Re-inspection                        217\n",
            "Administrative Miscellaneous / Initial Inspection               100\n",
            "Pre-permit (Non-operational) / Initial Inspection                41\n",
            "Pre-permit (Operational) / Compliance Inspection                 33\n",
            "Administrative Miscellaneous / Re-inspection                     22\n",
            "Cycle Inspection / Reopening Inspection                          17\n",
            "Cycle Inspection / Compliance Inspection                         14\n",
            "Smoke-Free Air Act / Initial Inspection                          13\n",
            "Pre-permit (Operational) / Reopening Inspection                  11\n",
            "Inter-Agency Task Force / Initial Inspection                      4\n",
            "Administrative Miscellaneous / Compliance Inspection              3\n",
            "Pre-permit (Operational) / Second Compliance Inspection           2\n",
            "Calorie Posting / Initial Inspection                              1\n",
            "Administrative Miscellaneous / Second Compliance Inspection       1\n",
            "Pre-permit (Non-operational) / Re-inspection                      1\n",
            "Administrative Miscellaneous / Reopening Inspection               1\n",
            "Name: count, dtype: int64\n"
          ]
        }
      ],
      "source": [
        "print(df['INSPECTION TYPE'].value_counts())"
      ]
    },
    {
      "cell_type": "code",
      "execution_count": null,
      "metadata": {
        "id": "VeLQ-icOywTA"
      },
      "outputs": [],
      "source": [
        "le = LabelEncoder()\n",
        "df['CRITICAL FLAG ENCODED'] = le.fit_transform(df['CRITICAL FLAG'])\n",
        "df['ACTION_ENCODED'] = le.fit_transform(df['ACTION'])\n",
        "df['VIOLATION CODE ENCODED'] = le.fit_transform(df['VIOLATION CODE'])\n",
        "df['INSPECTION TYPE ENCODED'] = le.fit_transform(df['INSPECTION TYPE'])"
      ]
    },
    {
      "cell_type": "code",
      "execution_count": null,
      "metadata": {
        "colab": {
          "base_uri": "https://localhost:8080/",
          "height": 712
        },
        "id": "Xlx-VFrK31q1",
        "outputId": "a2d9f9d9-d847-4cc2-b396-530e1c1828d3"
      },
      "outputs": [
        {
          "data": {
            "application/vnd.google.colaboratory.intrinsic+json": {
              "type": "dataframe",
              "variable_name": "df"
            },
            "text/html": [
              "\n",
              "  <div id=\"df-0b33e979-89fd-4cf5-ba6c-243d859e3a10\" class=\"colab-df-container\">\n",
              "    <div>\n",
              "<style scoped>\n",
              "    .dataframe tbody tr th:only-of-type {\n",
              "        vertical-align: middle;\n",
              "    }\n",
              "\n",
              "    .dataframe tbody tr th {\n",
              "        vertical-align: top;\n",
              "    }\n",
              "\n",
              "    .dataframe thead th {\n",
              "        text-align: right;\n",
              "    }\n",
              "</style>\n",
              "<table border=\"1\" class=\"dataframe\">\n",
              "  <thead>\n",
              "    <tr style=\"text-align: right;\">\n",
              "      <th></th>\n",
              "      <th>CAMIS</th>\n",
              "      <th>DBA</th>\n",
              "      <th>BORO</th>\n",
              "      <th>BUILDING</th>\n",
              "      <th>STREET</th>\n",
              "      <th>ZIPCODE</th>\n",
              "      <th>PHONE</th>\n",
              "      <th>CUISINE DESCRIPTION</th>\n",
              "      <th>INSPECTION DATE</th>\n",
              "      <th>ACTION</th>\n",
              "      <th>...</th>\n",
              "      <th>CRITICAL FLAG</th>\n",
              "      <th>SCORE</th>\n",
              "      <th>RECORD DATE</th>\n",
              "      <th>INSPECTION TYPE</th>\n",
              "      <th>Latitude</th>\n",
              "      <th>Longitude</th>\n",
              "      <th>CRITICAL FLAG ENCODED</th>\n",
              "      <th>ACTION_ENCODED</th>\n",
              "      <th>VIOLATION CODE ENCODED</th>\n",
              "      <th>INSPECTION TYPE ENCODED</th>\n",
              "    </tr>\n",
              "  </thead>\n",
              "  <tbody>\n",
              "    <tr>\n",
              "      <th>32</th>\n",
              "      <td>50118403</td>\n",
              "      <td>NEW LUCKY STAR KITCHEN</td>\n",
              "      <td>Queens</td>\n",
              "      <td>809</td>\n",
              "      <td>ASTORIA BLVD</td>\n",
              "      <td>11102.0</td>\n",
              "      <td>7187772200</td>\n",
              "      <td>Chinese</td>\n",
              "      <td>01/11/2022</td>\n",
              "      <td>Violations were cited in the following area(s).</td>\n",
              "      <td>...</td>\n",
              "      <td>Critical</td>\n",
              "      <td>20.0</td>\n",
              "      <td>04/29/2024</td>\n",
              "      <td>Pre-permit (Operational) / Initial Inspection</td>\n",
              "      <td>40.772568</td>\n",
              "      <td>-73.932254</td>\n",
              "      <td>0</td>\n",
              "      <td>3</td>\n",
              "      <td>1</td>\n",
              "      <td>14</td>\n",
              "    </tr>\n",
              "    <tr>\n",
              "      <th>35</th>\n",
              "      <td>50108139</td>\n",
              "      <td>NHA MINH</td>\n",
              "      <td>Queens</td>\n",
              "      <td>915</td>\n",
              "      <td>WYCKOFF AVENUE</td>\n",
              "      <td>11385.0</td>\n",
              "      <td>9176745706</td>\n",
              "      <td>Other</td>\n",
              "      <td>11/28/2023</td>\n",
              "      <td>Violations were cited in the following area(s).</td>\n",
              "      <td>...</td>\n",
              "      <td>Critical</td>\n",
              "      <td>10.0</td>\n",
              "      <td>04/29/2024</td>\n",
              "      <td>Cycle Inspection / Initial Inspection</td>\n",
              "      <td>40.696932</td>\n",
              "      <td>-73.906442</td>\n",
              "      <td>0</td>\n",
              "      <td>3</td>\n",
              "      <td>1</td>\n",
              "      <td>7</td>\n",
              "    </tr>\n",
              "    <tr>\n",
              "      <th>38</th>\n",
              "      <td>41050702</td>\n",
              "      <td>CHRIS SUPER DELI</td>\n",
              "      <td>Bronx</td>\n",
              "      <td>903</td>\n",
              "      <td>SHERIDAN AVENUE</td>\n",
              "      <td>10451.0</td>\n",
              "      <td>7184100708</td>\n",
              "      <td>Sandwiches/Salads/Mixed Buffet</td>\n",
              "      <td>02/07/2022</td>\n",
              "      <td>Violations were cited in the following area(s).</td>\n",
              "      <td>...</td>\n",
              "      <td>Not Critical</td>\n",
              "      <td>12.0</td>\n",
              "      <td>04/29/2024</td>\n",
              "      <td>Cycle Inspection / Initial Inspection</td>\n",
              "      <td>40.827086</td>\n",
              "      <td>-73.920773</td>\n",
              "      <td>2</td>\n",
              "      <td>3</td>\n",
              "      <td>27</td>\n",
              "      <td>7</td>\n",
              "    </tr>\n",
              "    <tr>\n",
              "      <th>42</th>\n",
              "      <td>41466245</td>\n",
              "      <td>ATLIXCO BAKERY &amp; DELI</td>\n",
              "      <td>Staten Island</td>\n",
              "      <td>1012</td>\n",
              "      <td>ST PAULS AVE</td>\n",
              "      <td>0.0</td>\n",
              "      <td>7183900171</td>\n",
              "      <td>Mexican</td>\n",
              "      <td>04/22/2024</td>\n",
              "      <td>Violations were cited in the following area(s).</td>\n",
              "      <td>...</td>\n",
              "      <td>Critical</td>\n",
              "      <td>17.0</td>\n",
              "      <td>04/29/2024</td>\n",
              "      <td>Cycle Inspection / Initial Inspection</td>\n",
              "      <td>0.000000</td>\n",
              "      <td>0.000000</td>\n",
              "      <td>0</td>\n",
              "      <td>3</td>\n",
              "      <td>13</td>\n",
              "      <td>7</td>\n",
              "    </tr>\n",
              "    <tr>\n",
              "      <th>46</th>\n",
              "      <td>50064785</td>\n",
              "      <td>REGINA'S GROCERY</td>\n",
              "      <td>Manhattan</td>\n",
              "      <td>27</td>\n",
              "      <td>ORCHARD STREET</td>\n",
              "      <td>10002.0</td>\n",
              "      <td>9172615792</td>\n",
              "      <td>Italian</td>\n",
              "      <td>03/19/2024</td>\n",
              "      <td>Violations were cited in the following area(s).</td>\n",
              "      <td>...</td>\n",
              "      <td>Critical</td>\n",
              "      <td>12.0</td>\n",
              "      <td>04/29/2024</td>\n",
              "      <td>Cycle Inspection / Re-inspection</td>\n",
              "      <td>40.715511</td>\n",
              "      <td>-73.991581</td>\n",
              "      <td>0</td>\n",
              "      <td>3</td>\n",
              "      <td>1</td>\n",
              "      <td>8</td>\n",
              "    </tr>\n",
              "  </tbody>\n",
              "</table>\n",
              "<p>5 rows × 22 columns</p>\n",
              "</div>\n",
              "    <div class=\"colab-df-buttons\">\n",
              "\n",
              "  <div class=\"colab-df-container\">\n",
              "    <button class=\"colab-df-convert\" onclick=\"convertToInteractive('df-0b33e979-89fd-4cf5-ba6c-243d859e3a10')\"\n",
              "            title=\"Convert this dataframe to an interactive table.\"\n",
              "            style=\"display:none;\">\n",
              "\n",
              "  <svg xmlns=\"http://www.w3.org/2000/svg\" height=\"24px\" viewBox=\"0 -960 960 960\">\n",
              "    <path d=\"M120-120v-720h720v720H120Zm60-500h600v-160H180v160Zm220 220h160v-160H400v160Zm0 220h160v-160H400v160ZM180-400h160v-160H180v160Zm440 0h160v-160H620v160ZM180-180h160v-160H180v160Zm440 0h160v-160H620v160Z\"/>\n",
              "  </svg>\n",
              "    </button>\n",
              "\n",
              "  <style>\n",
              "    .colab-df-container {\n",
              "      display:flex;\n",
              "      gap: 12px;\n",
              "    }\n",
              "\n",
              "    .colab-df-convert {\n",
              "      background-color: #E8F0FE;\n",
              "      border: none;\n",
              "      border-radius: 50%;\n",
              "      cursor: pointer;\n",
              "      display: none;\n",
              "      fill: #1967D2;\n",
              "      height: 32px;\n",
              "      padding: 0 0 0 0;\n",
              "      width: 32px;\n",
              "    }\n",
              "\n",
              "    .colab-df-convert:hover {\n",
              "      background-color: #E2EBFA;\n",
              "      box-shadow: 0px 1px 2px rgba(60, 64, 67, 0.3), 0px 1px 3px 1px rgba(60, 64, 67, 0.15);\n",
              "      fill: #174EA6;\n",
              "    }\n",
              "\n",
              "    .colab-df-buttons div {\n",
              "      margin-bottom: 4px;\n",
              "    }\n",
              "\n",
              "    [theme=dark] .colab-df-convert {\n",
              "      background-color: #3B4455;\n",
              "      fill: #D2E3FC;\n",
              "    }\n",
              "\n",
              "    [theme=dark] .colab-df-convert:hover {\n",
              "      background-color: #434B5C;\n",
              "      box-shadow: 0px 1px 3px 1px rgba(0, 0, 0, 0.15);\n",
              "      filter: drop-shadow(0px 1px 2px rgba(0, 0, 0, 0.3));\n",
              "      fill: #FFFFFF;\n",
              "    }\n",
              "  </style>\n",
              "\n",
              "    <script>\n",
              "      const buttonEl =\n",
              "        document.querySelector('#df-0b33e979-89fd-4cf5-ba6c-243d859e3a10 button.colab-df-convert');\n",
              "      buttonEl.style.display =\n",
              "        google.colab.kernel.accessAllowed ? 'block' : 'none';\n",
              "\n",
              "      async function convertToInteractive(key) {\n",
              "        const element = document.querySelector('#df-0b33e979-89fd-4cf5-ba6c-243d859e3a10');\n",
              "        const dataTable =\n",
              "          await google.colab.kernel.invokeFunction('convertToInteractive',\n",
              "                                                    [key], {});\n",
              "        if (!dataTable) return;\n",
              "\n",
              "        const docLinkHtml = 'Like what you see? Visit the ' +\n",
              "          '<a target=\"_blank\" href=https://colab.research.google.com/notebooks/data_table.ipynb>data table notebook</a>'\n",
              "          + ' to learn more about interactive tables.';\n",
              "        element.innerHTML = '';\n",
              "        dataTable['output_type'] = 'display_data';\n",
              "        await google.colab.output.renderOutput(dataTable, element);\n",
              "        const docLink = document.createElement('div');\n",
              "        docLink.innerHTML = docLinkHtml;\n",
              "        element.appendChild(docLink);\n",
              "      }\n",
              "    </script>\n",
              "  </div>\n",
              "\n",
              "\n",
              "<div id=\"df-c0681f2e-89a2-4c74-b765-7ef3cbddbc4d\">\n",
              "  <button class=\"colab-df-quickchart\" onclick=\"quickchart('df-c0681f2e-89a2-4c74-b765-7ef3cbddbc4d')\"\n",
              "            title=\"Suggest charts\"\n",
              "            style=\"display:none;\">\n",
              "\n",
              "<svg xmlns=\"http://www.w3.org/2000/svg\" height=\"24px\"viewBox=\"0 0 24 24\"\n",
              "     width=\"24px\">\n",
              "    <g>\n",
              "        <path d=\"M19 3H5c-1.1 0-2 .9-2 2v14c0 1.1.9 2 2 2h14c1.1 0 2-.9 2-2V5c0-1.1-.9-2-2-2zM9 17H7v-7h2v7zm4 0h-2V7h2v10zm4 0h-2v-4h2v4z\"/>\n",
              "    </g>\n",
              "</svg>\n",
              "  </button>\n",
              "\n",
              "<style>\n",
              "  .colab-df-quickchart {\n",
              "      --bg-color: #E8F0FE;\n",
              "      --fill-color: #1967D2;\n",
              "      --hover-bg-color: #E2EBFA;\n",
              "      --hover-fill-color: #174EA6;\n",
              "      --disabled-fill-color: #AAA;\n",
              "      --disabled-bg-color: #DDD;\n",
              "  }\n",
              "\n",
              "  [theme=dark] .colab-df-quickchart {\n",
              "      --bg-color: #3B4455;\n",
              "      --fill-color: #D2E3FC;\n",
              "      --hover-bg-color: #434B5C;\n",
              "      --hover-fill-color: #FFFFFF;\n",
              "      --disabled-bg-color: #3B4455;\n",
              "      --disabled-fill-color: #666;\n",
              "  }\n",
              "\n",
              "  .colab-df-quickchart {\n",
              "    background-color: var(--bg-color);\n",
              "    border: none;\n",
              "    border-radius: 50%;\n",
              "    cursor: pointer;\n",
              "    display: none;\n",
              "    fill: var(--fill-color);\n",
              "    height: 32px;\n",
              "    padding: 0;\n",
              "    width: 32px;\n",
              "  }\n",
              "\n",
              "  .colab-df-quickchart:hover {\n",
              "    background-color: var(--hover-bg-color);\n",
              "    box-shadow: 0 1px 2px rgba(60, 64, 67, 0.3), 0 1px 3px 1px rgba(60, 64, 67, 0.15);\n",
              "    fill: var(--button-hover-fill-color);\n",
              "  }\n",
              "\n",
              "  .colab-df-quickchart-complete:disabled,\n",
              "  .colab-df-quickchart-complete:disabled:hover {\n",
              "    background-color: var(--disabled-bg-color);\n",
              "    fill: var(--disabled-fill-color);\n",
              "    box-shadow: none;\n",
              "  }\n",
              "\n",
              "  .colab-df-spinner {\n",
              "    border: 2px solid var(--fill-color);\n",
              "    border-color: transparent;\n",
              "    border-bottom-color: var(--fill-color);\n",
              "    animation:\n",
              "      spin 1s steps(1) infinite;\n",
              "  }\n",
              "\n",
              "  @keyframes spin {\n",
              "    0% {\n",
              "      border-color: transparent;\n",
              "      border-bottom-color: var(--fill-color);\n",
              "      border-left-color: var(--fill-color);\n",
              "    }\n",
              "    20% {\n",
              "      border-color: transparent;\n",
              "      border-left-color: var(--fill-color);\n",
              "      border-top-color: var(--fill-color);\n",
              "    }\n",
              "    30% {\n",
              "      border-color: transparent;\n",
              "      border-left-color: var(--fill-color);\n",
              "      border-top-color: var(--fill-color);\n",
              "      border-right-color: var(--fill-color);\n",
              "    }\n",
              "    40% {\n",
              "      border-color: transparent;\n",
              "      border-right-color: var(--fill-color);\n",
              "      border-top-color: var(--fill-color);\n",
              "    }\n",
              "    60% {\n",
              "      border-color: transparent;\n",
              "      border-right-color: var(--fill-color);\n",
              "    }\n",
              "    80% {\n",
              "      border-color: transparent;\n",
              "      border-right-color: var(--fill-color);\n",
              "      border-bottom-color: var(--fill-color);\n",
              "    }\n",
              "    90% {\n",
              "      border-color: transparent;\n",
              "      border-bottom-color: var(--fill-color);\n",
              "    }\n",
              "  }\n",
              "</style>\n",
              "\n",
              "  <script>\n",
              "    async function quickchart(key) {\n",
              "      const quickchartButtonEl =\n",
              "        document.querySelector('#' + key + ' button');\n",
              "      quickchartButtonEl.disabled = true;  // To prevent multiple clicks.\n",
              "      quickchartButtonEl.classList.add('colab-df-spinner');\n",
              "      try {\n",
              "        const charts = await google.colab.kernel.invokeFunction(\n",
              "            'suggestCharts', [key], {});\n",
              "      } catch (error) {\n",
              "        console.error('Error during call to suggestCharts:', error);\n",
              "      }\n",
              "      quickchartButtonEl.classList.remove('colab-df-spinner');\n",
              "      quickchartButtonEl.classList.add('colab-df-quickchart-complete');\n",
              "    }\n",
              "    (() => {\n",
              "      let quickchartButtonEl =\n",
              "        document.querySelector('#df-c0681f2e-89a2-4c74-b765-7ef3cbddbc4d button');\n",
              "      quickchartButtonEl.style.display =\n",
              "        google.colab.kernel.accessAllowed ? 'block' : 'none';\n",
              "    })();\n",
              "  </script>\n",
              "</div>\n",
              "\n",
              "    </div>\n",
              "  </div>\n"
            ],
            "text/plain": [
              "       CAMIS                     DBA           BORO BUILDING           STREET  \\\n",
              "32  50118403  NEW LUCKY STAR KITCHEN         Queens      809     ASTORIA BLVD   \n",
              "35  50108139                NHA MINH         Queens      915   WYCKOFF AVENUE   \n",
              "38  41050702        CHRIS SUPER DELI          Bronx      903  SHERIDAN AVENUE   \n",
              "42  41466245   ATLIXCO BAKERY & DELI  Staten Island     1012     ST PAULS AVE   \n",
              "46  50064785        REGINA'S GROCERY      Manhattan       27   ORCHARD STREET   \n",
              "\n",
              "    ZIPCODE       PHONE             CUISINE DESCRIPTION INSPECTION DATE  \\\n",
              "32  11102.0  7187772200                         Chinese      01/11/2022   \n",
              "35  11385.0  9176745706                           Other      11/28/2023   \n",
              "38  10451.0  7184100708  Sandwiches/Salads/Mixed Buffet      02/07/2022   \n",
              "42      0.0  7183900171                         Mexican      04/22/2024   \n",
              "46  10002.0  9172615792                         Italian      03/19/2024   \n",
              "\n",
              "                                             ACTION  ... CRITICAL FLAG SCORE  \\\n",
              "32  Violations were cited in the following area(s).  ...      Critical  20.0   \n",
              "35  Violations were cited in the following area(s).  ...      Critical  10.0   \n",
              "38  Violations were cited in the following area(s).  ...  Not Critical  12.0   \n",
              "42  Violations were cited in the following area(s).  ...      Critical  17.0   \n",
              "46  Violations were cited in the following area(s).  ...      Critical  12.0   \n",
              "\n",
              "   RECORD DATE                                INSPECTION TYPE   Latitude  \\\n",
              "32  04/29/2024  Pre-permit (Operational) / Initial Inspection  40.772568   \n",
              "35  04/29/2024          Cycle Inspection / Initial Inspection  40.696932   \n",
              "38  04/29/2024          Cycle Inspection / Initial Inspection  40.827086   \n",
              "42  04/29/2024          Cycle Inspection / Initial Inspection   0.000000   \n",
              "46  04/29/2024               Cycle Inspection / Re-inspection  40.715511   \n",
              "\n",
              "    Longitude  CRITICAL FLAG ENCODED  ACTION_ENCODED  VIOLATION CODE ENCODED  \\\n",
              "32 -73.932254                      0               3                       1   \n",
              "35 -73.906442                      0               3                       1   \n",
              "38 -73.920773                      2               3                      27   \n",
              "42   0.000000                      0               3                      13   \n",
              "46 -73.991581                      0               3                       1   \n",
              "\n",
              "    INSPECTION TYPE ENCODED  \n",
              "32                       14  \n",
              "35                        7  \n",
              "38                        7  \n",
              "42                        7  \n",
              "46                        8  \n",
              "\n",
              "[5 rows x 22 columns]"
            ]
          },
          "execution_count": 59,
          "metadata": {},
          "output_type": "execute_result"
        }
      ],
      "source": [
        "df.head()"
      ]
    },
    {
      "cell_type": "code",
      "execution_count": null,
      "metadata": {
        "colab": {
          "base_uri": "https://localhost:8080/",
          "height": 718
        },
        "id": "n2c0Vhk_YHq6",
        "outputId": "43e03a7f-2435-426a-ad33-51415d1855fc"
      },
      "outputs": [
        {
          "data": {
            "image/png": "[encoded data removed]",
            "text/plain": [
              "<Figure size 1600x800 with 1 Axes>"
            ]
          },
          "metadata": {},
          "output_type": "display_data"
        }
      ],
      "source": [
        "plt.figure(figsize=(16, 8))\n",
        "plt.boxplot(df['VIOLATION CODE ENCODED'], vert=False)\n",
        "plt.xlabel('Violation Types')\n",
        "plt.title('Box Plot of Violation Types')\n",
        "plt.show()"
      ]
    },
    {
      "cell_type": "code",
      "execution_count": null,
      "metadata": {
        "colab": {
          "base_uri": "https://localhost:8080/"
        },
        "id": "tw2AASk0qZRO",
        "outputId": "b5fc70b5-483f-4f66-80fe-352082636253"
      },
      "outputs": [
        {
          "name": "stdout",
          "output_type": "stream",
          "text": [
            "         CAMIS                       DBA           BORO BUILDING  \\\n",
            "32    50118403    NEW LUCKY STAR KITCHEN         Queens      809   \n",
            "35    50108139                  NHA MINH         Queens      915   \n",
            "38    41050702          CHRIS SUPER DELI          Bronx      903   \n",
            "42    41466245     ATLIXCO BAKERY & DELI  Staten Island     1012   \n",
            "46    50064785          REGINA'S GROCERY      Manhattan       27   \n",
            "...        ...                       ...            ...      ...   \n",
            "4983  50066224                PATISSERIE      Manhattan      225   \n",
            "4984  50018547        MANDEVILLES BISTRO       Brooklyn      944   \n",
            "4985  50017098             ZUMA NEW YORK      Manhattan      261   \n",
            "4986  41254923      AYZA CAFE & WINE BAR      Manhattan       11   \n",
            "4987  50053669  FAMOUS CALABRIA PIZZERIA      Manhattan       27   \n",
            "\n",
            "                 STREET  ZIPCODE       PHONE             CUISINE DESCRIPTION  \\\n",
            "32         ASTORIA BLVD  11102.0  7187772200                         Chinese   \n",
            "35       WYCKOFF AVENUE  11385.0  9176745706                           Other   \n",
            "38      SHERIDAN AVENUE  10451.0  7184100708  Sandwiches/Salads/Mixed Buffet   \n",
            "42         ST PAULS AVE      0.0  7183900171                         Mexican   \n",
            "46       ORCHARD STREET  10002.0  9172615792                         Italian   \n",
            "...                 ...      ...         ...                             ...   \n",
            "4983     LIBERTY STREET  10280.0  2129818588        Bakery Products/Desserts   \n",
            "4984    FLATBUSH AVENUE  11226.0  3474350092                       Caribbean   \n",
            "4985     MADISON AVENUE  10016.0  2125449862                        Japanese   \n",
            "4986   WEST   31 STREET  10001.0  2127142992                   Mediterranean   \n",
            "4987  SAINT JAMES PLACE  10038.0  2122330009                           Pizza   \n",
            "\n",
            "     INSPECTION DATE                                           ACTION  ...  \\\n",
            "32        01/11/2022  Violations were cited in the following area(s).  ...   \n",
            "35        11/28/2023  Violations were cited in the following area(s).  ...   \n",
            "38        02/07/2022  Violations were cited in the following area(s).  ...   \n",
            "42        04/22/2024  Violations were cited in the following area(s).  ...   \n",
            "46        03/19/2024  Violations were cited in the following area(s).  ...   \n",
            "...              ...                                              ...  ...   \n",
            "4983      05/10/2023  Violations were cited in the following area(s).  ...   \n",
            "4984      06/10/2022  Violations were cited in the following area(s).  ...   \n",
            "4985      08/05/2021  Violations were cited in the following area(s).  ...   \n",
            "4986      04/20/2022  Violations were cited in the following area(s).  ...   \n",
            "4987      04/25/2023  Violations were cited in the following area(s).  ...   \n",
            "\n",
            "     CRITICAL FLAG SCORE RECORD DATE  \\\n",
            "32        Critical  20.0  04/29/2024   \n",
            "35        Critical  10.0  04/29/2024   \n",
            "38    Not Critical  12.0  04/29/2024   \n",
            "42        Critical  17.0  04/29/2024   \n",
            "46        Critical  12.0  04/29/2024   \n",
            "...            ...   ...         ...   \n",
            "4983      Critical  12.0  04/29/2024   \n",
            "4984      Critical  43.0  04/29/2024   \n",
            "4985  Not Critical  12.0  04/29/2024   \n",
            "4986      Critical  11.0  04/29/2024   \n",
            "4987      Critical  13.0  04/29/2024   \n",
            "\n",
            "                                    INSPECTION TYPE   Latitude  Longitude  \\\n",
            "32    Pre-permit (Operational) / Initial Inspection  40.772568 -73.932254   \n",
            "35            Cycle Inspection / Initial Inspection  40.696932 -73.906442   \n",
            "38            Cycle Inspection / Initial Inspection  40.827086 -73.920773   \n",
            "42            Cycle Inspection / Initial Inspection   0.000000   0.000000   \n",
            "46                 Cycle Inspection / Re-inspection  40.715511 -73.991581   \n",
            "...                                             ...        ...        ...   \n",
            "4983               Cycle Inspection / Re-inspection  40.711530 -74.015673   \n",
            "4984          Cycle Inspection / Initial Inspection  40.648410 -73.958255   \n",
            "4985          Cycle Inspection / Initial Inspection  40.750799 -73.980730   \n",
            "4986          Cycle Inspection / Initial Inspection  40.746831 -73.986643   \n",
            "4987               Cycle Inspection / Re-inspection  40.711891 -73.999571   \n",
            "\n",
            "      CRITICAL FLAG ENCODED  ACTION_ENCODED  VIOLATION CODE ENCODED  \\\n",
            "32                        0               3                       1   \n",
            "35                        0               3                       1   \n",
            "38                        2               3                      27   \n",
            "42                        0               3                      13   \n",
            "46                        0               3                       1   \n",
            "...                     ...             ...                     ...   \n",
            "4983                      0               3                      13   \n",
            "4984                      0               3                      12   \n",
            "4985                      2               3                      24   \n",
            "4986                      0               3                       4   \n",
            "4987                      0               3                      13   \n",
            "\n",
            "      INSPECTION TYPE ENCODED  \n",
            "32                         14  \n",
            "35                          7  \n",
            "38                          7  \n",
            "42                          7  \n",
            "46                          8  \n",
            "...                       ...  \n",
            "4983                        8  \n",
            "4984                        7  \n",
            "4985                        7  \n",
            "4986                        7  \n",
            "4987                        8  \n",
            "\n",
            "[3942 rows x 22 columns]\n"
          ]
        }
      ],
      "source": [
        "column_name = 'VIOLATION CODE ENCODED'\n",
        "z_scores = (df[column_name] - df[column_name].mean()) / df[column_name].std()\n",
        "\n",
        "threshold = 2\n",
        "\n",
        "df_no_outliers = df[abs(z_scores) < threshold]\n",
        "\n",
        "print(df_no_outliers)\n"
      ]
    },
    {
      "cell_type": "code",
      "execution_count": null,
      "metadata": {
        "colab": {
          "base_uri": "https://localhost:8080/",
          "height": 718
        },
        "id": "_tcDoRuuXnrI",
        "outputId": "826200ac-033b-443e-ed6d-3ba97cfb9381"
      },
      "outputs": [
        {
          "data": {
            "image/png": "[encoded data removed]",
            "text/plain": [
              "<Figure size 1600x800 with 1 Axes>"
            ]
          },
          "metadata": {},
          "output_type": "display_data"
        }
      ],
      "source": [
        "plt.figure(figsize=(16, 8))\n",
        "plt.boxplot(df_no_outliers['VIOLATION CODE ENCODED'], vert=False)\n",
        "plt.xlabel('Vilation types')\n",
        "plt.title('Box Plot  of Violation Types')\n",
        "plt.show()"
      ]
    },
    {
      "cell_type": "code",
      "execution_count": null,
      "metadata": {
        "colab": {
          "base_uri": "https://localhost:8080/",
          "height": 17
        },
        "id": "4-zhSqdccYnS",
        "outputId": "64ac1d69-b8da-4b0d-a428-8d92028f2599"
      },
      "outputs": [
        {
          "data": {
            "application/javascript": "\n    async function download(id, filename, size) {\n      if (!google.colab.kernel.accessAllowed) {\n        return;\n      }\n      const div = document.createElement('div');\n      const label = document.createElement('label');\n      label.textContent = `Downloading \"${filename}\": `;\n      div.appendChild(label);\n      const progress = document.createElement('progress');\n      progress.max = size;\n      div.appendChild(progress);\n      document.body.appendChild(div);\n\n      const buffers = [];\n      let downloaded = 0;\n\n      const channel = await google.colab.kernel.comms.open(id);\n      // Send a message to notify the kernel that we're ready.\n      channel.send({})\n\n      for await (const message of channel.messages) {\n        // Send a message to notify the kernel that we're ready.\n        channel.send({})\n        if (message.buffers) {\n          for (const buffer of message.buffers) {\n            buffers.push(buffer);\n            downloaded += buffer.byteLength;\n            progress.value = downloaded;\n          }\n        }\n      }\n      const blob = new Blob(buffers, {type: 'application/binary'});\n      const a = document.createElement('a');\n      a.href = window.URL.createObjectURL(blob);\n      a.download = filename;\n      div.appendChild(a);\n      a.click();\n      div.remove();\n    }\n  ",
            "text/plain": [
              "<IPython.core.display.Javascript object>"
            ]
          },
          "metadata": {},
          "output_type": "display_data"
        },
        {
          "data": {
            "application/javascript": "download(\"download_4f009a60-20c0-4dc0-a398-ba4d7cd1b2f5\", \"manipulated_dataset.csv\", 1466610)",
            "text/plain": [
              "<IPython.core.display.Javascript object>"
            ]
          },
          "metadata": {},
          "output_type": "display_data"
        }
      ],
      "source": [
        "df_no_outliers.to_csv('manipulated_dataset.csv', index=False)\n",
        "\n",
        "files.download('manipulated_dataset.csv')"
      ]
    },
    {
      "cell_type": "markdown",
      "metadata": {
        "id": "73DgeEEwRDY0"
      },
      "source": [
        "# Prediction Models\n",
        "\n"
      ]
    },
    {
      "cell_type": "code",
      "execution_count": null,
      "metadata": {
        "id": "9nx5CV4rhBsG"
      },
      "outputs": [],
      "source": [
        "x = df_no_outliers[['ACTION_ENCODED','CRITICAL FLAG ENCODED', 'SCORE']]\n",
        "y = df_no_outliers['VIOLATION CODE ENCODED']"
      ]
    },
    {
      "cell_type": "code",
      "execution_count": null,
      "metadata": {
        "colab": {
          "base_uri": "https://localhost:8080/"
        },
        "id": "icELJoN8vOHA",
        "outputId": "346e1092-335a-44f6-de7d-df1bef22df29"
      },
      "outputs": [
        {
          "name": "stdout",
          "output_type": "stream",
          "text": [
            "Number of rows in the total set: 3942\n",
            "Number of rows in the training set: 2759\n",
            "Number of rows in the test set: 1183\n"
          ]
        }
      ],
      "source": [
        "X_train, X_test, y_train, y_test = train_test_split(x,y,test_size=0.3 ,random_state=125)\n",
        "print('Number of rows in the total set: {}'.format(df_no_outliers.shape[0]))\n",
        "print('Number of rows in the training set: {}'.format(X_train.shape[0]))\n",
        "print('Number of rows in the test set: {}'.format(X_test.shape[0]))"
      ]
    },
    {
      "cell_type": "code",
      "execution_count": null,
      "metadata": {
        "colab": {
          "base_uri": "https://localhost:8080/"
        },
        "id": "8bbNREZavjmf",
        "outputId": "1db7dc38-ca6d-4da0-8680-6aaad5c5da51"
      },
      "outputs": [
        {
          "name": "stdout",
          "output_type": "stream",
          "text": [
            "Mean Absolute Error: 4.864889759040954\n",
            "Mean Squared Error: 32.10646376755725\n",
            "Root Mean Squared Error: 5.6662565921035775\n",
            "(1183,)\n",
            "(1183,)\n"
          ]
        }
      ],
      "source": [
        "from sklearn.linear_model import LinearRegression\n",
        "regressor_model = LinearRegression()\n",
        "regressor_model.fit(X_train, y_train)\n",
        "y_pred = regressor_model.predict(X_test)\n",
        "from sklearn import metrics\n",
        "print('Mean Absolute Error:', metrics.mean_absolute_error(y_test, y_pred))\n",
        "print('Mean Squared Error:', metrics.mean_squared_error(y_test, y_pred))\n",
        "print('Root Mean Squared Error:', np.sqrt(metrics.mean_squared_error(y_test, y_pred)))\n",
        "print(y_test.shape)\n",
        "print(y_pred.shape)"
      ]
    },
    {
      "cell_type": "code",
      "execution_count": null,
      "metadata": {
        "colab": {
          "base_uri": "https://localhost:8080/"
        },
        "id": "b1j-BpuMvtA6",
        "outputId": "4cd64b54-14c9-4e99-8b7c-80300a1896df"
      },
      "outputs": [
        {
          "name": "stdout",
          "output_type": "stream",
          "text": [
            "      Actual  Predicted\n",
            "0         13   8.826127\n",
            "1         12   8.822030\n",
            "2         13   8.811787\n",
            "3         13   8.815884\n",
            "4         14   8.803592\n",
            "...      ...        ...\n",
            "1178       4   8.793348\n",
            "1179       1   8.787202\n",
            "1180       4   8.785154\n",
            "1181       1   8.807689\n",
            "1182      34  28.370704\n",
            "\n",
            "[1183 rows x 2 columns]\n"
          ]
        }
      ],
      "source": [
        "y_test_array = y_test.to_numpy()\n",
        "\n",
        "y_test_array = y_test_array.reshape(1, 1183)\n",
        "\n",
        "y_pred = y_pred.reshape(1, 1183)\n",
        "\n",
        "y_test_array = y_test_array.flatten()\n",
        "y_pred = y_pred.flatten()\n",
        "\n",
        "df_prediction = pd.DataFrame({'Actual': y_test_array, 'Predicted': y_pred})\n",
        "\n",
        "print(df_prediction)"
      ]
    },
    {
      "cell_type": "code",
      "execution_count": null,
      "metadata": {
        "colab": {
          "base_uri": "https://localhost:8080/"
        },
        "id": "BGNgLYl_wHSa",
        "outputId": "34e5adbc-9053-4a24-a441-2e314210f4a4"
      },
      "outputs": [
        {
          "data": {
            "text/plain": [
              "0.7254558837124034"
            ]
          },
          "execution_count": 68,
          "metadata": {},
          "output_type": "execute_result"
        }
      ],
      "source": [
        "r2_score(y_test_array,y_pred)"
      ]
    },
    {
      "cell_type": "code",
      "execution_count": null,
      "metadata": {
        "colab": {
          "base_uri": "https://localhost:8080/"
        },
        "id": "vvWoHkIW1RGK",
        "outputId": "0954e81a-d40f-4ea7-c411-f49b5d323e61"
      },
      "outputs": [
        {
          "name": "stdout",
          "output_type": "stream",
          "text": [
            "Mean Absolute Error: 4.864889759040954\n",
            "Mean Squared Error: 32.10646376755725\n",
            "Root Mean Squared Error: 5.6662565921035775\n",
            "(1183,)\n",
            "(1183,)\n"
          ]
        }
      ],
      "source": [
        "from sklearn.neighbors import KNeighborsRegressor\n",
        "knn = KNeighborsRegressor()\n",
        "knn.fit(X_train, y_train)\n",
        "\n",
        "y_pred = regressor_model.predict(X_test)\n",
        "from sklearn import metrics\n",
        "print('Mean Absolute Error:', metrics.mean_absolute_error(y_test, y_pred))\n",
        "print('Mean Squared Error:', metrics.mean_squared_error(y_test, y_pred))\n",
        "print('Root Mean Squared Error:', np.sqrt(metrics.mean_squared_error(y_test, y_pred)))\n",
        "print(y_test.shape)\n",
        "print(y_pred.shape)"
      ]
    },
    {
      "cell_type": "code",
      "execution_count": null,
      "metadata": {
        "colab": {
          "base_uri": "https://localhost:8080/"
        },
        "id": "4T2mUu2o1wtj",
        "outputId": "255293c8-bb0d-47aa-c25e-7784d319b158"
      },
      "outputs": [
        {
          "name": "stdout",
          "output_type": "stream",
          "text": [
            "      Actual  Predicted\n",
            "0         13   8.826127\n",
            "1         12   8.822030\n",
            "2         13   8.811787\n",
            "3         13   8.815884\n",
            "4         14   8.803592\n",
            "...      ...        ...\n",
            "1178       4   8.793348\n",
            "1179       1   8.787202\n",
            "1180       4   8.785154\n",
            "1181       1   8.807689\n",
            "1182      34  28.370704\n",
            "\n",
            "[1183 rows x 2 columns]\n"
          ]
        }
      ],
      "source": [
        "y_test_array = y_test.to_numpy()\n",
        "\n",
        "y_test_array = y_test_array.reshape(1, 1183)\n",
        "\n",
        "y_pred = y_pred.reshape(1, 1183)\n",
        "\n",
        "y_test_array = y_test_array.flatten()\n",
        "y_pred = y_pred.flatten()\n",
        "\n",
        "df_prediction = pd.DataFrame({'Actual': y_test_array, 'Predicted': y_pred})\n",
        "\n",
        "print(df_prediction)"
      ]
    },
    {
      "cell_type": "code",
      "execution_count": null,
      "metadata": {
        "colab": {
          "base_uri": "https://localhost:8080/"
        },
        "id": "08zDQz4W2IC0",
        "outputId": "389784a8-04ee-40e0-d10a-6df52e07efb1"
      },
      "outputs": [
        {
          "data": {
            "text/plain": [
              "0.7254558837124034"
            ]
          },
          "execution_count": 71,
          "metadata": {},
          "output_type": "execute_result"
        }
      ],
      "source": [
        "r2_score(y_test_array,y_pred)"
      ]
    },
    {
      "cell_type": "code",
      "execution_count": null,
      "metadata": {
        "colab": {
          "base_uri": "https://localhost:8080/"
        },
        "id": "E2cBa5J02Kwo",
        "outputId": "917b5e4d-2466-4b62-cd17-26e868c8dfce"
      },
      "outputs": [
        {
          "name": "stdout",
          "output_type": "stream",
          "text": [
            "Mean Absolute Error: 4.864889759040954\n",
            "Mean Squared Error: 32.10646376755725\n",
            "Root Mean Squared Error: 5.6662565921035775\n",
            "(1183,)\n",
            "(1183,)\n"
          ]
        }
      ],
      "source": [
        "from sklearn.tree import DecisionTreeRegressor\n",
        "\n",
        "regressor = DecisionTreeRegressor(random_state=42)\n",
        "regressor.fit(X_train, y_train)\n",
        "y_pred = regressor_model.predict(X_test)\n",
        "from sklearn import metrics\n",
        "print('Mean Absolute Error:', metrics.mean_absolute_error(y_test, y_pred))\n",
        "print('Mean Squared Error:', metrics.mean_squared_error(y_test, y_pred))\n",
        "print('Root Mean Squared Error:', np.sqrt(metrics.mean_squared_error(y_test, y_pred)))\n",
        "print(y_test.shape)\n",
        "print(y_pred.shape)"
      ]
    },
    {
      "cell_type": "code",
      "execution_count": null,
      "metadata": {
        "colab": {
          "base_uri": "https://localhost:8080/"
        },
        "id": "CBLnJRhh2YHo",
        "outputId": "0e714a2c-ab59-44a5-8d4f-57e013dc14b5"
      },
      "outputs": [
        {
          "name": "stdout",
          "output_type": "stream",
          "text": [
            "      Actual  Predicted\n",
            "0         13   8.826127\n",
            "1         12   8.822030\n",
            "2         13   8.811787\n",
            "3         13   8.815884\n",
            "4         14   8.803592\n",
            "...      ...        ...\n",
            "1178       4   8.793348\n",
            "1179       1   8.787202\n",
            "1180       4   8.785154\n",
            "1181       1   8.807689\n",
            "1182      34  28.370704\n",
            "\n",
            "[1183 rows x 2 columns]\n"
          ]
        }
      ],
      "source": [
        "y_test_array = y_test.to_numpy()\n",
        "\n",
        "y_test_array = y_test_array.reshape(1, 1183)\n",
        "\n",
        "y_pred = y_pred.reshape(1, 1183)\n",
        "\n",
        "y_test_array = y_test_array.flatten()\n",
        "y_pred = y_pred.flatten()\n",
        "\n",
        "df_prediction = pd.DataFrame({'Actual': y_test_array, 'Predicted': y_pred})\n",
        "\n",
        "print(df_prediction)"
      ]
    },
    {
      "cell_type": "code",
      "execution_count": null,
      "metadata": {
        "colab": {
          "base_uri": "https://localhost:8080/"
        },
        "id": "3GCImqw52jop",
        "outputId": "c801f1bc-c836-4619-f835-adcbc826f97d"
      },
      "outputs": [
        {
          "data": {
            "text/plain": [
              "0.7254558837124034"
            ]
          },
          "execution_count": 74,
          "metadata": {},
          "output_type": "execute_result"
        }
      ],
      "source": [
        "r2_score(y_test_array,y_pred)"
      ]
    },
    {
      "cell_type": "markdown",
      "metadata": {
        "id": "HpHkWltvRShp"
      },
      "source": [
        "# Classification Models"
      ]
    },
    {
      "cell_type": "code",
      "execution_count": null,
      "metadata": {
        "colab": {
          "base_uri": "https://localhost:8080/",
          "height": 712
        },
        "id": "uceXq3_u4BXK",
        "outputId": "b5925b4b-083f-444c-bbd2-b360cfa2fe0a"
      },
      "outputs": [
        {
          "data": {
            "application/vnd.google.colaboratory.intrinsic+json": {
              "type": "dataframe",
              "variable_name": "df_no_outliers"
            },
            "text/html": [
              "\n",
              "  <div id=\"df-6774c738-c54b-4164-8877-31a995284649\" class=\"colab-df-container\">\n",
              "    <div>\n",
              "<style scoped>\n",
              "    .dataframe tbody tr th:only-of-type {\n",
              "        vertical-align: middle;\n",
              "    }\n",
              "\n",
              "    .dataframe tbody tr th {\n",
              "        vertical-align: top;\n",
              "    }\n",
              "\n",
              "    .dataframe thead th {\n",
              "        text-align: right;\n",
              "    }\n",
              "</style>\n",
              "<table border=\"1\" class=\"dataframe\">\n",
              "  <thead>\n",
              "    <tr style=\"text-align: right;\">\n",
              "      <th></th>\n",
              "      <th>CAMIS</th>\n",
              "      <th>DBA</th>\n",
              "      <th>BORO</th>\n",
              "      <th>BUILDING</th>\n",
              "      <th>STREET</th>\n",
              "      <th>ZIPCODE</th>\n",
              "      <th>PHONE</th>\n",
              "      <th>CUISINE DESCRIPTION</th>\n",
              "      <th>INSPECTION DATE</th>\n",
              "      <th>ACTION</th>\n",
              "      <th>...</th>\n",
              "      <th>CRITICAL FLAG</th>\n",
              "      <th>SCORE</th>\n",
              "      <th>RECORD DATE</th>\n",
              "      <th>INSPECTION TYPE</th>\n",
              "      <th>Latitude</th>\n",
              "      <th>Longitude</th>\n",
              "      <th>CRITICAL FLAG ENCODED</th>\n",
              "      <th>ACTION_ENCODED</th>\n",
              "      <th>VIOLATION CODE ENCODED</th>\n",
              "      <th>INSPECTION TYPE ENCODED</th>\n",
              "    </tr>\n",
              "  </thead>\n",
              "  <tbody>\n",
              "    <tr>\n",
              "      <th>32</th>\n",
              "      <td>50118403</td>\n",
              "      <td>NEW LUCKY STAR KITCHEN</td>\n",
              "      <td>Queens</td>\n",
              "      <td>809</td>\n",
              "      <td>ASTORIA BLVD</td>\n",
              "      <td>11102.0</td>\n",
              "      <td>7187772200</td>\n",
              "      <td>Chinese</td>\n",
              "      <td>01/11/2022</td>\n",
              "      <td>Violations were cited in the following area(s).</td>\n",
              "      <td>...</td>\n",
              "      <td>Critical</td>\n",
              "      <td>20.0</td>\n",
              "      <td>04/29/2024</td>\n",
              "      <td>Pre-permit (Operational) / Initial Inspection</td>\n",
              "      <td>40.772568</td>\n",
              "      <td>-73.932254</td>\n",
              "      <td>0</td>\n",
              "      <td>3</td>\n",
              "      <td>1</td>\n",
              "      <td>14</td>\n",
              "    </tr>\n",
              "    <tr>\n",
              "      <th>35</th>\n",
              "      <td>50108139</td>\n",
              "      <td>NHA MINH</td>\n",
              "      <td>Queens</td>\n",
              "      <td>915</td>\n",
              "      <td>WYCKOFF AVENUE</td>\n",
              "      <td>11385.0</td>\n",
              "      <td>9176745706</td>\n",
              "      <td>Other</td>\n",
              "      <td>11/28/2023</td>\n",
              "      <td>Violations were cited in the following area(s).</td>\n",
              "      <td>...</td>\n",
              "      <td>Critical</td>\n",
              "      <td>10.0</td>\n",
              "      <td>04/29/2024</td>\n",
              "      <td>Cycle Inspection / Initial Inspection</td>\n",
              "      <td>40.696932</td>\n",
              "      <td>-73.906442</td>\n",
              "      <td>0</td>\n",
              "      <td>3</td>\n",
              "      <td>1</td>\n",
              "      <td>7</td>\n",
              "    </tr>\n",
              "    <tr>\n",
              "      <th>38</th>\n",
              "      <td>41050702</td>\n",
              "      <td>CHRIS SUPER DELI</td>\n",
              "      <td>Bronx</td>\n",
              "      <td>903</td>\n",
              "      <td>SHERIDAN AVENUE</td>\n",
              "      <td>10451.0</td>\n",
              "      <td>7184100708</td>\n",
              "      <td>Sandwiches/Salads/Mixed Buffet</td>\n",
              "      <td>02/07/2022</td>\n",
              "      <td>Violations were cited in the following area(s).</td>\n",
              "      <td>...</td>\n",
              "      <td>Not Critical</td>\n",
              "      <td>12.0</td>\n",
              "      <td>04/29/2024</td>\n",
              "      <td>Cycle Inspection / Initial Inspection</td>\n",
              "      <td>40.827086</td>\n",
              "      <td>-73.920773</td>\n",
              "      <td>2</td>\n",
              "      <td>3</td>\n",
              "      <td>27</td>\n",
              "      <td>7</td>\n",
              "    </tr>\n",
              "    <tr>\n",
              "      <th>42</th>\n",
              "      <td>41466245</td>\n",
              "      <td>ATLIXCO BAKERY &amp; DELI</td>\n",
              "      <td>Staten Island</td>\n",
              "      <td>1012</td>\n",
              "      <td>ST PAULS AVE</td>\n",
              "      <td>0.0</td>\n",
              "      <td>7183900171</td>\n",
              "      <td>Mexican</td>\n",
              "      <td>04/22/2024</td>\n",
              "      <td>Violations were cited in the following area(s).</td>\n",
              "      <td>...</td>\n",
              "      <td>Critical</td>\n",
              "      <td>17.0</td>\n",
              "      <td>04/29/2024</td>\n",
              "      <td>Cycle Inspection / Initial Inspection</td>\n",
              "      <td>0.000000</td>\n",
              "      <td>0.000000</td>\n",
              "      <td>0</td>\n",
              "      <td>3</td>\n",
              "      <td>13</td>\n",
              "      <td>7</td>\n",
              "    </tr>\n",
              "    <tr>\n",
              "      <th>46</th>\n",
              "      <td>50064785</td>\n",
              "      <td>REGINA'S GROCERY</td>\n",
              "      <td>Manhattan</td>\n",
              "      <td>27</td>\n",
              "      <td>ORCHARD STREET</td>\n",
              "      <td>10002.0</td>\n",
              "      <td>9172615792</td>\n",
              "      <td>Italian</td>\n",
              "      <td>03/19/2024</td>\n",
              "      <td>Violations were cited in the following area(s).</td>\n",
              "      <td>...</td>\n",
              "      <td>Critical</td>\n",
              "      <td>12.0</td>\n",
              "      <td>04/29/2024</td>\n",
              "      <td>Cycle Inspection / Re-inspection</td>\n",
              "      <td>40.715511</td>\n",
              "      <td>-73.991581</td>\n",
              "      <td>0</td>\n",
              "      <td>3</td>\n",
              "      <td>1</td>\n",
              "      <td>8</td>\n",
              "    </tr>\n",
              "  </tbody>\n",
              "</table>\n",
              "<p>5 rows × 22 columns</p>\n",
              "</div>\n",
              "    <div class=\"colab-df-buttons\">\n",
              "\n",
              "  <div class=\"colab-df-container\">\n",
              "    <button class=\"colab-df-convert\" onclick=\"convertToInteractive('df-6774c738-c54b-4164-8877-31a995284649')\"\n",
              "            title=\"Convert this dataframe to an interactive table.\"\n",
              "            style=\"display:none;\">\n",
              "\n",
              "  <svg xmlns=\"http://www.w3.org/2000/svg\" height=\"24px\" viewBox=\"0 -960 960 960\">\n",
              "    <path d=\"M120-120v-720h720v720H120Zm60-500h600v-160H180v160Zm220 220h160v-160H400v160Zm0 220h160v-160H400v160ZM180-400h160v-160H180v160Zm440 0h160v-160H620v160ZM180-180h160v-160H180v160Zm440 0h160v-160H620v160Z\"/>\n",
              "  </svg>\n",
              "    </button>\n",
              "\n",
              "  <style>\n",
              "    .colab-df-container {\n",
              "      display:flex;\n",
              "      gap: 12px;\n",
              "    }\n",
              "\n",
              "    .colab-df-convert {\n",
              "      background-color: #E8F0FE;\n",
              "      border: none;\n",
              "      border-radius: 50%;\n",
              "      cursor: pointer;\n",
              "      display: none;\n",
              "      fill: #1967D2;\n",
              "      height: 32px;\n",
              "      padding: 0 0 0 0;\n",
              "      width: 32px;\n",
              "    }\n",
              "\n",
              "    .colab-df-convert:hover {\n",
              "      background-color: #E2EBFA;\n",
              "      box-shadow: 0px 1px 2px rgba(60, 64, 67, 0.3), 0px 1px 3px 1px rgba(60, 64, 67, 0.15);\n",
              "      fill: #174EA6;\n",
              "    }\n",
              "\n",
              "    .colab-df-buttons div {\n",
              "      margin-bottom: 4px;\n",
              "    }\n",
              "\n",
              "    [theme=dark] .colab-df-convert {\n",
              "      background-color: #3B4455;\n",
              "      fill: #D2E3FC;\n",
              "    }\n",
              "\n",
              "    [theme=dark] .colab-df-convert:hover {\n",
              "      background-color: #434B5C;\n",
              "      box-shadow: 0px 1px 3px 1px rgba(0, 0, 0, 0.15);\n",
              "      filter: drop-shadow(0px 1px 2px rgba(0, 0, 0, 0.3));\n",
              "      fill: #FFFFFF;\n",
              "    }\n",
              "  </style>\n",
              "\n",
              "    <script>\n",
              "      const buttonEl =\n",
              "        document.querySelector('#df-6774c738-c54b-4164-8877-31a995284649 button.colab-df-convert');\n",
              "      buttonEl.style.display =\n",
              "        google.colab.kernel.accessAllowed ? 'block' : 'none';\n",
              "\n",
              "      async function convertToInteractive(key) {\n",
              "        const element = document.querySelector('#df-6774c738-c54b-4164-8877-31a995284649');\n",
              "        const dataTable =\n",
              "          await google.colab.kernel.invokeFunction('convertToInteractive',\n",
              "                                                    [key], {});\n",
              "        if (!dataTable) return;\n",
              "\n",
              "        const docLinkHtml = 'Like what you see? Visit the ' +\n",
              "          '<a target=\"_blank\" href=https://colab.research.google.com/notebooks/data_table.ipynb>data table notebook</a>'\n",
              "          + ' to learn more about interactive tables.';\n",
              "        element.innerHTML = '';\n",
              "        dataTable['output_type'] = 'display_data';\n",
              "        await google.colab.output.renderOutput(dataTable, element);\n",
              "        const docLink = document.createElement('div');\n",
              "        docLink.innerHTML = docLinkHtml;\n",
              "        element.appendChild(docLink);\n",
              "      }\n",
              "    </script>\n",
              "  </div>\n",
              "\n",
              "\n",
              "<div id=\"df-105b23f2-9347-409c-be30-43bd6f94e03f\">\n",
              "  <button class=\"colab-df-quickchart\" onclick=\"quickchart('df-105b23f2-9347-409c-be30-43bd6f94e03f')\"\n",
              "            title=\"Suggest charts\"\n",
              "            style=\"display:none;\">\n",
              "\n",
              "<svg xmlns=\"http://www.w3.org/2000/svg\" height=\"24px\"viewBox=\"0 0 24 24\"\n",
              "     width=\"24px\">\n",
              "    <g>\n",
              "        <path d=\"M19 3H5c-1.1 0-2 .9-2 2v14c0 1.1.9 2 2 2h14c1.1 0 2-.9 2-2V5c0-1.1-.9-2-2-2zM9 17H7v-7h2v7zm4 0h-2V7h2v10zm4 0h-2v-4h2v4z\"/>\n",
              "    </g>\n",
              "</svg>\n",
              "  </button>\n",
              "\n",
              "<style>\n",
              "  .colab-df-quickchart {\n",
              "      --bg-color: #E8F0FE;\n",
              "      --fill-color: #1967D2;\n",
              "      --hover-bg-color: #E2EBFA;\n",
              "      --hover-fill-color: #174EA6;\n",
              "      --disabled-fill-color: #AAA;\n",
              "      --disabled-bg-color: #DDD;\n",
              "  }\n",
              "\n",
              "  [theme=dark] .colab-df-quickchart {\n",
              "      --bg-color: #3B4455;\n",
              "      --fill-color: #D2E3FC;\n",
              "      --hover-bg-color: #434B5C;\n",
              "      --hover-fill-color: #FFFFFF;\n",
              "      --disabled-bg-color: #3B4455;\n",
              "      --disabled-fill-color: #666;\n",
              "  }\n",
              "\n",
              "  .colab-df-quickchart {\n",
              "    background-color: var(--bg-color);\n",
              "    border: none;\n",
              "    border-radius: 50%;\n",
              "    cursor: pointer;\n",
              "    display: none;\n",
              "    fill: var(--fill-color);\n",
              "    height: 32px;\n",
              "    padding: 0;\n",
              "    width: 32px;\n",
              "  }\n",
              "\n",
              "  .colab-df-quickchart:hover {\n",
              "    background-color: var(--hover-bg-color);\n",
              "    box-shadow: 0 1px 2px rgba(60, 64, 67, 0.3), 0 1px 3px 1px rgba(60, 64, 67, 0.15);\n",
              "    fill: var(--button-hover-fill-color);\n",
              "  }\n",
              "\n",
              "  .colab-df-quickchart-complete:disabled,\n",
              "  .colab-df-quickchart-complete:disabled:hover {\n",
              "    background-color: var(--disabled-bg-color);\n",
              "    fill: var(--disabled-fill-color);\n",
              "    box-shadow: none;\n",
              "  }\n",
              "\n",
              "  .colab-df-spinner {\n",
              "    border: 2px solid var(--fill-color);\n",
              "    border-color: transparent;\n",
              "    border-bottom-color: var(--fill-color);\n",
              "    animation:\n",
              "      spin 1s steps(1) infinite;\n",
              "  }\n",
              "\n",
              "  @keyframes spin {\n",
              "    0% {\n",
              "      border-color: transparent;\n",
              "      border-bottom-color: var(--fill-color);\n",
              "      border-left-color: var(--fill-color);\n",
              "    }\n",
              "    20% {\n",
              "      border-color: transparent;\n",
              "      border-left-color: var(--fill-color);\n",
              "      border-top-color: var(--fill-color);\n",
              "    }\n",
              "    30% {\n",
              "      border-color: transparent;\n",
              "      border-left-color: var(--fill-color);\n",
              "      border-top-color: var(--fill-color);\n",
              "      border-right-color: var(--fill-color);\n",
              "    }\n",
              "    40% {\n",
              "      border-color: transparent;\n",
              "      border-right-color: var(--fill-color);\n",
              "      border-top-color: var(--fill-color);\n",
              "    }\n",
              "    60% {\n",
              "      border-color: transparent;\n",
              "      border-right-color: var(--fill-color);\n",
              "    }\n",
              "    80% {\n",
              "      border-color: transparent;\n",
              "      border-right-color: var(--fill-color);\n",
              "      border-bottom-color: var(--fill-color);\n",
              "    }\n",
              "    90% {\n",
              "      border-color: transparent;\n",
              "      border-bottom-color: var(--fill-color);\n",
              "    }\n",
              "  }\n",
              "</style>\n",
              "\n",
              "  <script>\n",
              "    async function quickchart(key) {\n",
              "      const quickchartButtonEl =\n",
              "        document.querySelector('#' + key + ' button');\n",
              "      quickchartButtonEl.disabled = true;  // To prevent multiple clicks.\n",
              "      quickchartButtonEl.classList.add('colab-df-spinner');\n",
              "      try {\n",
              "        const charts = await google.colab.kernel.invokeFunction(\n",
              "            'suggestCharts', [key], {});\n",
              "      } catch (error) {\n",
              "        console.error('Error during call to suggestCharts:', error);\n",
              "      }\n",
              "      quickchartButtonEl.classList.remove('colab-df-spinner');\n",
              "      quickchartButtonEl.classList.add('colab-df-quickchart-complete');\n",
              "    }\n",
              "    (() => {\n",
              "      let quickchartButtonEl =\n",
              "        document.querySelector('#df-105b23f2-9347-409c-be30-43bd6f94e03f button');\n",
              "      quickchartButtonEl.style.display =\n",
              "        google.colab.kernel.accessAllowed ? 'block' : 'none';\n",
              "    })();\n",
              "  </script>\n",
              "</div>\n",
              "\n",
              "    </div>\n",
              "  </div>\n"
            ],
            "text/plain": [
              "       CAMIS                     DBA           BORO BUILDING           STREET  \\\n",
              "32  50118403  NEW LUCKY STAR KITCHEN         Queens      809     ASTORIA BLVD   \n",
              "35  50108139                NHA MINH         Queens      915   WYCKOFF AVENUE   \n",
              "38  41050702        CHRIS SUPER DELI          Bronx      903  SHERIDAN AVENUE   \n",
              "42  41466245   ATLIXCO BAKERY & DELI  Staten Island     1012     ST PAULS AVE   \n",
              "46  50064785        REGINA'S GROCERY      Manhattan       27   ORCHARD STREET   \n",
              "\n",
              "    ZIPCODE       PHONE             CUISINE DESCRIPTION INSPECTION DATE  \\\n",
              "32  11102.0  7187772200                         Chinese      01/11/2022   \n",
              "35  11385.0  9176745706                           Other      11/28/2023   \n",
              "38  10451.0  7184100708  Sandwiches/Salads/Mixed Buffet      02/07/2022   \n",
              "42      0.0  7183900171                         Mexican      04/22/2024   \n",
              "46  10002.0  9172615792                         Italian      03/19/2024   \n",
              "\n",
              "                                             ACTION  ... CRITICAL FLAG SCORE  \\\n",
              "32  Violations were cited in the following area(s).  ...      Critical  20.0   \n",
              "35  Violations were cited in the following area(s).  ...      Critical  10.0   \n",
              "38  Violations were cited in the following area(s).  ...  Not Critical  12.0   \n",
              "42  Violations were cited in the following area(s).  ...      Critical  17.0   \n",
              "46  Violations were cited in the following area(s).  ...      Critical  12.0   \n",
              "\n",
              "   RECORD DATE                                INSPECTION TYPE   Latitude  \\\n",
              "32  04/29/2024  Pre-permit (Operational) / Initial Inspection  40.772568   \n",
              "35  04/29/2024          Cycle Inspection / Initial Inspection  40.696932   \n",
              "38  04/29/2024          Cycle Inspection / Initial Inspection  40.827086   \n",
              "42  04/29/2024          Cycle Inspection / Initial Inspection   0.000000   \n",
              "46  04/29/2024               Cycle Inspection / Re-inspection  40.715511   \n",
              "\n",
              "    Longitude  CRITICAL FLAG ENCODED  ACTION_ENCODED  VIOLATION CODE ENCODED  \\\n",
              "32 -73.932254                      0               3                       1   \n",
              "35 -73.906442                      0               3                       1   \n",
              "38 -73.920773                      2               3                      27   \n",
              "42   0.000000                      0               3                      13   \n",
              "46 -73.991581                      0               3                       1   \n",
              "\n",
              "    INSPECTION TYPE ENCODED  \n",
              "32                       14  \n",
              "35                        7  \n",
              "38                        7  \n",
              "42                        7  \n",
              "46                        8  \n",
              "\n",
              "[5 rows x 22 columns]"
            ]
          },
          "execution_count": 75,
          "metadata": {},
          "output_type": "execute_result"
        }
      ],
      "source": [
        "df_no_outliers.head()"
      ]
    },
    {
      "cell_type": "code",
      "execution_count": null,
      "metadata": {
        "colab": {
          "base_uri": "https://localhost:8080/"
        },
        "id": "_tRHR8oQ2mlg",
        "outputId": "473d40f5-7bbf-4110-e2ec-b41aa46cfd3b"
      },
      "outputs": [
        {
          "name": "stdout",
          "output_type": "stream",
          "text": [
            "Accuracy: 0.687235841081995\n",
            "Classification Report:\n",
            "                precision    recall  f1-score   support\n",
            "\n",
            "      Critical       0.69      1.00      0.81       809\n",
            "Not Applicable       1.00      1.00      1.00         4\n",
            "  Not Critical       0.00      0.00      0.00       370\n",
            "\n",
            "      accuracy                           0.69      1183\n",
            "     macro avg       0.56      0.67      0.60      1183\n",
            "  weighted avg       0.47      0.69      0.56      1183\n",
            "\n"
          ]
        },
        {
          "name": "stderr",
          "output_type": "stream",
          "text": [
            "/usr/local/lib/python3.10/dist-packages/sklearn/metrics/_classification.py:1344: UndefinedMetricWarning: Precision and F-score are ill-defined and being set to 0.0 in labels with no predicted samples. Use `zero_division` parameter to control this behavior.\n",
            "  _warn_prf(average, modifier, msg_start, len(result))\n",
            "/usr/local/lib/python3.10/dist-packages/sklearn/metrics/_classification.py:1344: UndefinedMetricWarning: Precision and F-score are ill-defined and being set to 0.0 in labels with no predicted samples. Use `zero_division` parameter to control this behavior.\n",
            "  _warn_prf(average, modifier, msg_start, len(result))\n",
            "/usr/local/lib/python3.10/dist-packages/sklearn/metrics/_classification.py:1344: UndefinedMetricWarning: Precision and F-score are ill-defined and being set to 0.0 in labels with no predicted samples. Use `zero_division` parameter to control this behavior.\n",
            "  _warn_prf(average, modifier, msg_start, len(result))\n"
          ]
        }
      ],
      "source": [
        "from sklearn.naive_bayes import GaussianNB\n",
        "\n",
        "x = df_no_outliers[['ACTION_ENCODED', 'SCORE', 'INSPECTION TYPE ENCODED']]\n",
        "y = df_no_outliers['CRITICAL FLAG']\n",
        "X_train, X_test, y_train, y_test = train_test_split(x, y, test_size=0.3, random_state=42)\n",
        "model = GaussianNB()\n",
        "model.fit(X_train, y_train)\n",
        "y_pred = model.predict(X_test)\n",
        "\n",
        "accuracy = accuracy_score(y_test, y_pred)\n",
        "report = classification_report(y_test, y_pred)\n",
        "\n",
        "print(f'Accuracy: {accuracy}')\n",
        "print('Classification Report:')\n",
        "print(report)"
      ]
    },
    {
      "cell_type": "code",
      "execution_count": null,
      "metadata": {
        "colab": {
          "base_uri": "https://localhost:8080/"
        },
        "id": "VNPPoz8H6iwM",
        "outputId": "a5edd72e-b1fa-443d-afc5-f5cc59f4fe7a"
      },
      "outputs": [
        {
          "name": "stdout",
          "output_type": "stream",
          "text": [
            "Accuracy: 0.687235841081995\n",
            "Classification Report:\n",
            "                precision    recall  f1-score   support\n",
            "\n",
            "      Critical       0.69      1.00      0.81       809\n",
            "Not Applicable       1.00      1.00      1.00         4\n",
            "  Not Critical       0.00      0.00      0.00       370\n",
            "\n",
            "      accuracy                           0.69      1183\n",
            "     macro avg       0.56      0.67      0.60      1183\n",
            "  weighted avg       0.47      0.69      0.56      1183\n",
            "\n"
          ]
        },
        {
          "name": "stderr",
          "output_type": "stream",
          "text": [
            "/usr/local/lib/python3.10/dist-packages/sklearn/metrics/_classification.py:1344: UndefinedMetricWarning: Precision and F-score are ill-defined and being set to 0.0 in labels with no predicted samples. Use `zero_division` parameter to control this behavior.\n",
            "  _warn_prf(average, modifier, msg_start, len(result))\n",
            "/usr/local/lib/python3.10/dist-packages/sklearn/metrics/_classification.py:1344: UndefinedMetricWarning: Precision and F-score are ill-defined and being set to 0.0 in labels with no predicted samples. Use `zero_division` parameter to control this behavior.\n",
            "  _warn_prf(average, modifier, msg_start, len(result))\n",
            "/usr/local/lib/python3.10/dist-packages/sklearn/metrics/_classification.py:1344: UndefinedMetricWarning: Precision and F-score are ill-defined and being set to 0.0 in labels with no predicted samples. Use `zero_division` parameter to control this behavior.\n",
            "  _warn_prf(average, modifier, msg_start, len(result))\n"
          ]
        }
      ],
      "source": [
        "from sklearn.tree import DecisionTreeClassifier\n",
        "\n",
        "x = df_no_outliers[['ACTION_ENCODED', 'SCORE', 'INSPECTION TYPE ENCODED']]\n",
        "y = df_no_outliers['CRITICAL FLAG']\n",
        "X_train, X_test, y_train, y_test = train_test_split(x, y, test_size=0.3, random_state=42)\n",
        "\n",
        "model = GaussianNB()\n",
        "model.fit(X_train, y_train)\n",
        "y_pred = model.predict(X_test)\n",
        "\n",
        "accuracy = accuracy_score(y_test, y_pred)\n",
        "report = classification_report(y_test, y_pred)\n",
        "\n",
        "print(f'Accuracy: {accuracy}')\n",
        "print('Classification Report:')\n",
        "print(report)"
      ]
    },
    {
      "cell_type": "code",
      "execution_count": null,
      "metadata": {
        "colab": {
          "base_uri": "https://localhost:8080/"
        },
        "id": "R2qKyIpA6qC1",
        "outputId": "df39568c-48c4-4d1b-d033-c5de42a31c71"
      },
      "outputs": [
        {
          "name": "stdout",
          "output_type": "stream",
          "text": [
            "Accuracy: 0.6796280642434489\n",
            "Classification Report:\n",
            "                precision    recall  f1-score   support\n",
            "\n",
            "      Critical       0.71      0.90      0.79       809\n",
            "Not Applicable       1.00      1.00      1.00         4\n",
            "  Not Critical       0.47      0.20      0.28       370\n",
            "\n",
            "      accuracy                           0.68      1183\n",
            "     macro avg       0.73      0.70      0.69      1183\n",
            "  weighted avg       0.64      0.68      0.63      1183\n",
            "\n"
          ]
        }
      ],
      "source": [
        "from sklearn.preprocessing import StandardScaler\n",
        "from sklearn.neighbors import KNeighborsClassifier\n",
        "\n",
        "x = df_no_outliers[['ACTION_ENCODED', 'SCORE', 'INSPECTION TYPE ENCODED']]\n",
        "y = df_no_outliers['CRITICAL FLAG']\n",
        "scaler = StandardScaler()\n",
        "X_scaled = scaler.fit_transform(x)\n",
        "X_train, X_test, y_train, y_test = train_test_split(X_scaled, y, test_size=0.3, random_state=42)\n",
        "\n",
        "n_neighbors = 5\n",
        "model = KNeighborsClassifier(n_neighbors=n_neighbors)\n",
        "model.fit(X_train, y_train)\n",
        "y_pred = model.predict(X_test)\n",
        "\n",
        "accuracy = accuracy_score(y_test, y_pred)\n",
        "report = classification_report(y_test, y_pred)\n",
        "\n",
        "print(f'Accuracy: {accuracy}')\n",
        "print('Classification Report:')\n",
        "print(report)"
      ]
    }
  ],
  "metadata": {
    "colab": {
      "provenance": [],
      "include_colab_link": true
    },
    "kernelspec": {
      "display_name": "Python 3",
      "name": "python3"
    },
    "language_info": {
      "name": "python"
    }
  },
  "nbformat": 4,
  "nbformat_minor": 0
}